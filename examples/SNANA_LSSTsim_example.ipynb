{
 "metadata": {
  "name": "",
  "signature": "sha256:6d8458099f86255d1939ecce67ba6aeae189291427110e342ff1853a752d7127"
 },
 "nbformat": 3,
 "nbformat_minor": 0,
 "worksheets": [
  {
   "cells": [
    {
     "cell_type": "code",
     "collapsed": false,
     "input": [
      "%matplotlib inline\n",
      "import matplotlib.pyplot as plt"
     ],
     "language": "python",
     "metadata": {},
     "outputs": [],
     "prompt_number": 1
    },
    {
     "cell_type": "code",
     "collapsed": false,
     "input": [
      "import sncosmo"
     ],
     "language": "python",
     "metadata": {},
     "outputs": [],
     "prompt_number": 2
    },
    {
     "cell_type": "code",
     "collapsed": false,
     "input": [
      "import analyzeSN as ans"
     ],
     "language": "python",
     "metadata": {},
     "outputs": [],
     "prompt_number": 3
    },
    {
     "cell_type": "heading",
     "level": 2,
     "metadata": {},
     "source": [
      "Load the SN from an SNANA simulation"
     ]
    },
    {
     "cell_type": "markdown",
     "metadata": {},
     "source": [
      "This should work with all the supernovae in the simulation, but to make this example quick, let us just load the first one and represent the collection of SN."
     ]
    },
    {
     "cell_type": "code",
     "collapsed": false,
     "input": [
      "# location is relative or absolute path to the file\n",
      "sne = ans.snanaSims.SnanaSims.fromSNANAfileroot('LSST_Ia', location='./', n=1)"
     ],
     "language": "python",
     "metadata": {},
     "outputs": [
      {
       "output_type": "stream",
       "stream": "stdout",
       "text": [
        "/Users/rbiswas/doc/projects/supernovae/LSST/SNANA_Sims/ENIGMA_LSSTDEEP_FIXED/LSST_Ia_HEAD.FITS\n"
       ]
      }
     ],
     "prompt_number": 17
    },
    {
     "cell_type": "markdown",
     "metadata": {},
     "source": [
      "Pick out the very first SN and reformat it to look the way sncosmo  expects SN to look"
     ]
    },
    {
     "cell_type": "code",
     "collapsed": false,
     "input": [
      "sn = ans.snanaSims.SnanaSims.reformat_SNANASN(sne.snList[0])"
     ],
     "language": "python",
     "metadata": {},
     "outputs": [],
     "prompt_number": 18
    },
    {
     "cell_type": "markdown",
     "metadata": {},
     "source": [
      "Make sure SNCosmo can understand band names"
     ]
    },
    {
     "cell_type": "code",
     "collapsed": false,
     "input": [
      "ans.snanaSims.SnanaSims.matchSNANAbandnamesinregistry()"
     ],
     "language": "python",
     "metadata": {},
     "outputs": [],
     "prompt_number": 7
    },
    {
     "cell_type": "markdown",
     "metadata": {},
     "source": [
      "We can look at the information in the light curve, or at the metadata"
     ]
    },
    {
     "cell_type": "code",
     "collapsed": false,
     "input": [
      "sn[:5]"
     ],
     "language": "python",
     "metadata": {},
     "outputs": [
      {
       "html": [
        "<table id=\"table4355522512\"><thead><tr><th>MJD</th><th>band</th><th>FIELD</th><th>TELESCOPE</th><th>PHOTFLAG</th><th>PHOTPROB</th><th>flux</th><th>fluxerr</th><th>MAG</th><th>MAGERR</th><th>PSF_SIG1</th><th>PSF_SIG2</th><th>PSF_RATIO</th><th>SKY_SIG</th><th>SKY_SIG_T</th><th>RDNOISE</th><th>ZEROPT</th><th>ZEROPT_ERR</th><th>GAIN</th><th>SIM_MAGOBS</th><th>ZP</th><th>ZPSYS</th></tr></thead><tr><td>49641.191</td><td>r</td><td>NULL</td><td>LSST</td><td>0</td><td>0.0</td><td>0.00838084</td><td>0.976129</td><td>99.0</td><td>5.0</td><td>1.22</td><td>0.0</td><td>0.0</td><td>227.79</td><td>-9.0</td><td>1.12</td><td>35.01</td><td>0.005</td><td>1.0</td><td>99.0</td><td>27.5</td><td>ab</td></tr><tr><td>49641.207</td><td>i</td><td>NULL</td><td>LSST</td><td>0</td><td>0.0</td><td>-2.64703</td><td>1.52845</td><td>99.0</td><td>5.0</td><td>1.21</td><td>0.0</td><td>0.0</td><td>299.12</td><td>-9.0</td><td>1.12</td><td>34.81</td><td>0.005</td><td>1.0</td><td>99.0</td><td>27.5</td><td>ab</td></tr><tr><td>49641.219</td><td>z</td><td>NULL</td><td>LSST</td><td>0</td><td>0.0</td><td>-0.430886</td><td>2.33875</td><td>99.0</td><td>5.0</td><td>1.2</td><td>0.0</td><td>0.0</td><td>363.24</td><td>-9.0</td><td>1.27</td><td>34.55</td><td>0.005</td><td>1.0</td><td>99.0</td><td>27.5</td><td>ab</td></tr><tr><td>49641.23</td><td>Y</td><td>NULL</td><td>LSST</td><td>0</td><td>0.0</td><td>-3.60301</td><td>9.51424</td><td>99.0</td><td>5.0</td><td>1.39</td><td>0.0</td><td>0.0</td><td>249.89</td><td>-9.0</td><td>1.12</td><td>32.78</td><td>0.005</td><td>1.0</td><td>99.0</td><td>27.5</td><td>ab</td></tr><tr><td>49654.176</td><td>r</td><td>NULL</td><td>LSST</td><td>0</td><td>0.0</td><td>0.310374</td><td>0.383431</td><td>28.7703</td><td>99.2297</td><td>0.98</td><td>0.0</td><td>0.0</td><td>115.45</td><td>-9.0</td><td>1.12</td><td>35.05</td><td>0.005</td><td>1.0</td><td>29.5638</td><td>27.5</td><td>ab</td></tr></table>"
       ],
       "metadata": {},
       "output_type": "pyout",
       "prompt_number": 9,
       "text": [
        "<Table rows=5 names=('MJD','band','FIELD','TELESCOPE','PHOTFLAG','PHOTPROB','flux','fluxerr','MAG','MAGERR','PSF_SIG1','PSF_SIG2','PSF_RATIO','SKY_SIG','SKY_SIG_T','RDNOISE','ZEROPT','ZEROPT_ERR','GAIN','SIM_MAGOBS','ZP','ZPSYS')>\n",
        "array([ (49641.191, 'r', 'NULL        ', 'LSST                ', 0, 0.0, 0.00838084239512682, 0.9761290550231934, 99.0, 5.0, 1.2200000286102295, 0.0, 0.0, 227.7899932861328, -9.0, 1.1200000047683716, 35.0099983215332, 0.004999999888241291, 1.0, 99.0, 27.5, 'ab'),\n",
        "       (49641.207, 'i', 'NULL        ', 'LSST                ', 0, 0.0, -2.6470348834991455, 1.5284531116485596, 99.0, 5.0, 1.2100000381469727, 0.0, 0.0, 299.1199951171875, -9.0, 1.1200000047683716, 34.810001373291016, 0.004999999888241291, 1.0, 99.0, 27.5, 'ab'),\n",
        "       (49641.219, 'z', 'NULL        ', 'LSST                ', 0, 0.0, -0.43088552355766296, 2.338745355606079, 99.0, 5.0, 1.2000000476837158, 0.0, 0.0, 363.239990234375, -9.0, 1.2699999809265137, 34.54999923706055, 0.004999999888241291, 1.0, 99.0, 27.5, 'ab'),\n",
        "       (49641.23, 'Y', 'NULL        ', 'LSST                ', 0, 0.0, -3.6030075550079346, 9.514240264892578, 99.0, 5.0, 1.3899999856948853, 0.0, 0.0, 249.88999938964844, -9.0, 1.1200000047683716, 32.779998779296875, 0.004999999888241291, 1.0, 99.0, 27.5, 'ab'),\n",
        "       (49654.176, 'r', 'NULL        ', 'LSST                ', 0, 0.0, 0.31037437915802, 0.3834307789802551, 28.770286560058594, 99.2297134399414, 0.9800000190734863, 0.0, 0.0, 115.44999694824219, -9.0, 1.1200000047683716, 35.04999923706055, 0.004999999888241291, 1.0, 29.563806533813477, 27.5, 'ab')], \n",
        "      dtype=[('MJD', '>f8'), ('band', 'S2'), ('FIELD', 'S12'), ('TELESCOPE', 'S20'), ('PHOTFLAG', '>i4'), ('PHOTPROB', '>f4'), ('flux', '>f4'), ('fluxerr', '>f4'), ('MAG', '>f4'), ('MAGERR', '>f4'), ('PSF_SIG1', '>f4'), ('PSF_SIG2', '>f4'), ('PSF_RATIO', '>f4'), ('SKY_SIG', '>f4'), ('SKY_SIG_T', '>f4'), ('RDNOISE', '>f4'), ('ZEROPT', '>f4'), ('ZEROPT_ERR', '>f4'), ('GAIN', '>f4'), ('SIM_MAGOBS', '>f4'), ('ZP', '<f8'), ('ZPSYS', 'S2')])"
       ]
      }
     ],
     "prompt_number": 9
    },
    {
     "cell_type": "code",
     "collapsed": false,
     "input": [
      "sn.meta"
     ],
     "language": "python",
     "metadata": {},
     "outputs": [
      {
       "metadata": {},
       "output_type": "pyout",
       "prompt_number": 10,
       "text": [
        "OrderedDict([('SNID', '31'), ('IAUC', 'NULL    '), ('FAKE', 2), ('RA', 53.009135999999998), ('DECL', -27.438949999999998), ('PIXSIZE', 0.2), ('NXPIX', -9), ('NYPIX', -9), ('SNTYPE', 1), ('NOBS', 40), ('PTROBS_MIN', 1), ('PTROBS_MAX', 40), ('MWEBV', 0.0089999996), ('MWEBV_ERR', 0.00144), ('REDSHIFT_HELIO', 1.037827), ('REDSHIFT_HELIO_ERR', 0.00050000002), ('REDSHIFT_FINAL', 1.0370296), ('REDSHIFT_FINAL_ERR', 0.00050000002), ('HOSTGAL_OBJID', 23765), ('HOSTGAL_PHOTOZ', 1.0375587), ('HOSTGAL_PHOTOZ_ERR', 0.0099999998), ('HOSTGAL_SPECZ', 0.0), ('HOSTGAL_SPECZ_ERR', 0.0), ('HOSTGAL_SNSEP', -999.0), ('HOSTGAL_LOGMASS', -9.0), ('HOSTGAL_LOGMASS_ERR', -9.0), ('HOSTGAL_MAG_u', 999.0), ('HOSTGAL_MAG_g', 999.0), ('HOSTGAL_MAG_r', 999.0), ('HOSTGAL_MAG_i', 999.0), ('HOSTGAL_MAG_z', 999.0), ('HOSTGAL_MAG_Y', 999.0), ('HOSTGAL_SB_FLUXCAL_u', -9.0), ('HOSTGAL_SB_FLUXCAL_g', -9.0), ('HOSTGAL_SB_FLUXCAL_r', -9.0), ('HOSTGAL_SB_FLUXCAL_i', -9.0), ('HOSTGAL_SB_FLUXCAL_z', -9.0), ('HOSTGAL_SB_FLUXCAL_Y', -9.0), ('PEAKMJD', 49680.5), ('SEARCH_TYPE', -9), ('SIM_MODEL_NAME', 'SALT2.Guy10_LAMOPEN '), ('SIM_MODEL_INDEX', 6), ('SIM_TYPE_INDEX', 1), ('SIM_TYPE_NAME', 'Ia      '), ('SIM_NON1a', 0), ('SIM_LIBID', 1427), ('SIM_SEARCHEFF_MASK', 3), ('SIM_REDSHIFT_HELIO', 1.0375588), ('SIM_REDSHIFT_CMB', 1.0367615), ('SIM_VPEC', 0.0), ('SIM_DLMU', 44.197174), ('SIM_RA', 53.009136199951172), ('SIM_DECL', -27.438949584960938), ('SIM_MWEBV', 0.0083502773), ('SIM_PEAKMJD', 49679.473), ('SIM_SALT2x0', 1.4640328e-06), ('SIM_SALT2x1', -1.0153089), ('SIM_SALT2c', 0.077126741), ('SIM_SALT2mB', 25.221123), ('SIM_SALT2alpha', 0.14), ('SIM_SALT2beta', 3.2), ('SIM_PEAKMAG_u', -9.0), ('SIM_PEAKMAG_g', -9.0), ('SIM_PEAKMAG_r', 26.703421), ('SIM_PEAKMAG_i', 25.025194), ('SIM_PEAKMAG_z', 24.534281), ('SIM_PEAKMAG_Y', 24.588415), ('SIM_EXPOSURE_u', 1.0), ('SIM_EXPOSURE_g', 1.0), ('SIM_EXPOSURE_r', 1.0), ('SIM_EXPOSURE_i', 1.0), ('SIM_EXPOSURE_z', 1.0), ('SIM_EXPOSURE_Y', 1.0), ('SIM_GALFRAC_u', -9.0), ('SIM_GALFRAC_g', -9.0), ('SIM_GALFRAC_r', -9.0), ('SIM_GALFRAC_i', -9.0), ('SIM_GALFRAC_z', -9.0), ('SIM_GALFRAC_Y', -9.0)])"
       ]
      }
     ],
     "prompt_number": 10
    },
    {
     "cell_type": "heading",
     "level": 2,
     "metadata": {},
     "source": [
      "Fitting SN to models"
     ]
    },
    {
     "cell_type": "markdown",
     "metadata": {},
     "source": [
      "Instantiate a model and fit Supernovae to it. Since this is a very short demonstration for how to use the SNANA simulations\n",
      "rather than how to use SNCosmo correctly, we will stick to basics. A few points to note that are being ignored, even though I remember them (there are probably others that I cannot remember right away :) :\n",
      "\n",
      "- Photometric redshifts are hard even when we have the model\n",
      "- 'salt2' can have problems with high redshift supernovae, so using salt2-extended \n",
      "- MW extinction MUST be added to the model, but I am ignoring for now\n",
      "- Model covariance should also be added for accurate results"
     ]
    },
    {
     "cell_type": "code",
     "collapsed": false,
     "input": [
      "model  = sncosmo.Model(source='salt2-extended')"
     ],
     "language": "python",
     "metadata": {},
     "outputs": [],
     "prompt_number": 11
    },
    {
     "cell_type": "code",
     "collapsed": false,
     "input": [
      "model.set(z=sn.meta['REDSHIFT_FINAL'])\n",
      "fit_results, fit_model = sncosmo.fit_lc(sn, model, vparam_names=['t0', 'x0', 'x1', 'c'])"
     ],
     "language": "python",
     "metadata": {},
     "outputs": [],
     "prompt_number": 12
    },
    {
     "cell_type": "code",
     "collapsed": false,
     "input": [
      "print fit_model"
     ],
     "language": "python",
     "metadata": {},
     "outputs": [
      {
       "output_type": "stream",
       "stream": "stdout",
       "text": [
        "<Model at 0x1039bff10>\n",
        "source:\n",
        "  class      : SALT2Source\n",
        "  name       : 'salt2-extended'\n",
        "  version    : 1.0\n",
        "  phases     : [-20, .., 50] days\n",
        "  wavelengths: [300, .., 18000] Angstroms\n",
        "parameters:\n",
        "  z  = 1.0370296239852905\n",
        "  t0 = 49681.912653564046\n",
        "  x0 = 1.0517105269330857e-06\n",
        "  x1 = -0.30140294883710866\n",
        "  c  = 0.092676361320537096\n"
       ]
      }
     ],
     "prompt_number": 13
    },
    {
     "cell_type": "code",
     "collapsed": false,
     "input": [
      "fig = sncosmo.plot_lc(sn, model=fit_model, band=['u', 'g', 'r', 'i', 'z', 'Y'], zp=25., zpsys='ab')"
     ],
     "language": "python",
     "metadata": {},
     "outputs": [
      {
       "metadata": {},
       "output_type": "display_data",
       "png": "[encoded data removed]",
       "text": [
        "<matplotlib.figure.Figure at 0x10cb25790>"
       ]
      }
     ],
     "prompt_number": 15
    },
    {
     "cell_type": "code",
     "collapsed": false,
     "input": [
      "sncosmo.chisq(sn, fit_model)/ fit_results.ndof"
     ],
     "language": "python",
     "metadata": {},
     "outputs": [
      {
       "metadata": {},
       "output_type": "pyout",
       "prompt_number": 16,
       "text": [
        "0.88437760022231149"
       ]
      }
     ],
     "prompt_number": 16
    }
   ],
   "metadata": {}
  }
 ]
}