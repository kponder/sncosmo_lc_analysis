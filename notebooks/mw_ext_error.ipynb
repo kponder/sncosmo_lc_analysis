{
 "metadata": {
  "name": "",
  "signature": "sha256:c65fa142a31355ad5287ea334f97376141cb7c9842a4e5461eddbc6e918ad364"
 },
 "nbformat": 3,
 "nbformat_minor": 0,
 "worksheets": [
  {
   "cells": [
    {
     "cell_type": "heading",
     "level": 1,
     "metadata": {},
     "source": [
      "Milky Way Extinction Error"
     ]
    },
    {
     "cell_type": "markdown",
     "metadata": {},
     "source": [
      " It seems that if an SNCosmo Model is initialized with Milky Way extinction (even if it is set to zero), <b>and</b> an SDSS bandpass is specified, that <code>model.bandmag()</code> and <code>model.color()</code> will return the exception:\n",
      "\n",
      "<code>Buffer dtype mismatch, expected 'double' but got 'long'</code>\n",
      "\n",
      "This is demonstrated below."
     ]
    },
    {
     "cell_type": "code",
     "collapsed": false,
     "input": [
      "import numpy as np\n",
      "import matplotlib.pyplot as plt\n",
      "\n",
      "import sncosmo\n",
      "import simulate_lsst as sl\n",
      "\n",
      "%matplotlib inline"
     ],
     "language": "python",
     "metadata": {},
     "outputs": [],
     "prompt_number": 1
    },
    {
     "cell_type": "heading",
     "level": 3,
     "metadata": {},
     "source": [
      "Working without MW extinction"
     ]
    },
    {
     "cell_type": "markdown",
     "metadata": {},
     "source": [
      "Following the <a href=\"http://sncosmo.readthedocs.org/en/v1.0.x/models.html\">example</a> given in the documentation regarding adding dust to supernova models, I'll initialize an instance of the Model class with host extinction, but no MW extinction. Default values for the parameters are used."
     ]
    },
    {
     "cell_type": "code",
     "collapsed": false,
     "input": [
      "dust = sncosmo.CCM89Dust()\n",
      "model_no_mw = sncosmo.Model(source='hsiao',\n",
      "                      effects=[dust],\n",
      "                      effect_names=['host'],\n",
      "                      effect_frames=['rest'])\n",
      "# waves = np.arange(200.,1000.,10.0)\n",
      "#model_no_mw.set(z=1.0, t0=0.0, amplitude=1.e-10)\n",
      "#model_no_mw.set(z=1.0, t0=0.0, x1=1.0, c=.1, hostebv=0.0)\n",
      "#model_no_mw.set_source_peakabsmag(-19.0, 'bessellb', 'ab')\n",
      "print model_no_mw"
     ],
     "language": "python",
     "metadata": {},
     "outputs": [
      {
       "output_type": "stream",
       "stream": "stdout",
       "text": [
        "<Model at 0x108925dd0>\n",
        "source:\n",
        "  class      : TimeSeriesSource\n",
        "  name       : 'hsiao'\n",
        "  version    : 3.0\n",
        "  phases     : [-20, .., 85] days\n",
        "  wavelengths: [1000, .., 25000] Angstroms\n",
        "effect (name='host' frame='rest'):\n",
        "  class           : CCM89Dust\n",
        "  wavelength range: [909.09, 33333.3] Angstroms\n",
        "parameters:\n",
        "  z         = 0.0\n",
        "  t0        = 0.0\n",
        "  amplitude = 1.0\n",
        "  hostebv   = 0.0\n",
        "  hostr_v   = 3.1000000000000001\n"
       ]
      }
     ],
     "prompt_number": 2
    },
    {
     "cell_type": "code",
     "collapsed": false,
     "input": [
      "model_no_mw.bandflux('desi', time=[.1, .5, 1.])"
     ],
     "language": "python",
     "metadata": {},
     "outputs": [
      {
       "metadata": {},
       "output_type": "pyout",
       "prompt_number": 3,
       "text": [
        "array([ 288491.91652638,  285568.80092357,  281584.6937222 ])"
       ]
      }
     ],
     "prompt_number": 3
    },
    {
     "cell_type": "code",
     "collapsed": false,
     "input": [
      "model_no_mw.bandflux('sdssi', time=[.1, .5, 1.])"
     ],
     "language": "python",
     "metadata": {},
     "outputs": [
      {
       "metadata": {},
       "output_type": "pyout",
       "prompt_number": 4,
       "text": [
        "array([ 184468.48307092,  183021.60751745,  181130.50238601])"
       ]
      }
     ],
     "prompt_number": 4
    },
    {
     "cell_type": "code",
     "collapsed": false,
     "input": [
      "model_no_mw.color('desi', 'desr', time=[.1, .5, 1.], magsys='ab')"
     ],
     "language": "python",
     "metadata": {},
     "outputs": [
      {
       "metadata": {},
       "output_type": "pyout",
       "prompt_number": 5,
       "text": [
        "array([ 0.54783799,  0.56370346,  0.5826175 ])"
       ]
      }
     ],
     "prompt_number": 5
    },
    {
     "cell_type": "code",
     "collapsed": false,
     "input": [
      "model_no_mw.color('sdssi', 'sdssr', time=[.1, .5, 1.], magsys='ab')"
     ],
     "language": "python",
     "metadata": {},
     "outputs": [
      {
       "metadata": {},
       "output_type": "pyout",
       "prompt_number": 6,
       "text": [
        "array([ 0.6247266 ,  0.63931893,  0.65543875])"
       ]
      }
     ],
     "prompt_number": 6
    },
    {
     "cell_type": "markdown",
     "metadata": {},
     "source": [
      "Things seem okay; <code>bandflux()</code> and <code>color()</code> return reasonable values for both SDSS and DES."
     ]
    },
    {
     "cell_type": "heading",
     "level": 3,
     "metadata": {},
     "source": [
      "Now with MW extinction"
     ]
    },
    {
     "cell_type": "markdown",
     "metadata": {},
     "source": [
      "Now, I'll initialize another model that is identical, except for the addition of the MW dust parameter."
     ]
    },
    {
     "cell_type": "code",
     "collapsed": false,
     "input": [
      "model_mw_ext = sncosmo.Model(source='hsiao',\n",
      "                      effects=[dust, dust],\n",
      "                      effect_names=['host', 'mw'],\n",
      "                      effect_frames=['rest', 'obs'])\n",
      "# waves = np.arange(200.,1000.,10.0)\n",
      "#model_mw_ext.set(z=1.0, t0=0.0, x1=1.0, c=.1, mwebv=0.05)\n",
      "#model_mw_ext.set_source_peakabsmag(-19.0, 'bessellb', 'ab')\n",
      "#model_mw_ext.set(z=.5, t0=0.0, amplitude=1.e-10)\n",
      "print model_mw_ext"
     ],
     "language": "python",
     "metadata": {},
     "outputs": [
      {
       "output_type": "stream",
       "stream": "stdout",
       "text": [
        "<Model at 0x108c272d0>\n",
        "source:\n",
        "  class      : TimeSeriesSource\n",
        "  name       : 'hsiao'\n",
        "  version    : 3.0\n",
        "  phases     : [-20, .., 85] days\n",
        "  wavelengths: [1000, .., 25000] Angstroms\n",
        "effect (name='host' frame='rest'):\n",
        "  class           : CCM89Dust\n",
        "  wavelength range: [909.09, 33333.3] Angstroms\n",
        "effect (name='mw' frame='obs'):\n",
        "  class           : CCM89Dust\n",
        "  wavelength range: [909.09, 33333.3] Angstroms\n",
        "parameters:\n",
        "  z         = 0.0\n",
        "  t0        = 0.0\n",
        "  amplitude = 1.0\n",
        "  hostebv   = 0.0\n",
        "  hostr_v   = 3.1000000000000001\n",
        "  mwebv     = 0.0\n",
        "  mwr_v     = 3.1000000000000001\n"
       ]
      }
     ],
     "prompt_number": 7
    },
    {
     "cell_type": "code",
     "collapsed": false,
     "input": [
      "model_mw_ext.bandflux('desi', time=[.1, .5, 1.])"
     ],
     "language": "python",
     "metadata": {},
     "outputs": [
      {
       "metadata": {},
       "output_type": "pyout",
       "prompt_number": 8,
       "text": [
        "array([ 288491.91652638,  285568.80092357,  281584.6937222 ])"
       ]
      }
     ],
     "prompt_number": 8
    },
    {
     "cell_type": "code",
     "collapsed": false,
     "input": [
      "model_mw_ext.bandflux('sdssi', time=[.1, .5, 1.])"
     ],
     "language": "python",
     "metadata": {},
     "outputs": [
      {
       "ename": "ValueError",
       "evalue": "Buffer dtype mismatch, expected 'double' but got 'long'",
       "output_type": "pyerr",
       "traceback": [
        "\u001b[0;31m---------------------------------------------------------------------------\u001b[0m\n\u001b[0;31mValueError\u001b[0m                                Traceback (most recent call last)",
        "\u001b[0;32m<ipython-input-9-990c71902ba2>\u001b[0m in \u001b[0;36m<module>\u001b[0;34m()\u001b[0m\n\u001b[0;32m----> 1\u001b[0;31m \u001b[0mmodel_mw_ext\u001b[0m\u001b[0;34m.\u001b[0m\u001b[0mbandflux\u001b[0m\u001b[0;34m(\u001b[0m\u001b[0;34m'sdssi'\u001b[0m\u001b[0;34m,\u001b[0m \u001b[0mtime\u001b[0m\u001b[0;34m=\u001b[0m\u001b[0;34m[\u001b[0m\u001b[0;36m.1\u001b[0m\u001b[0;34m,\u001b[0m \u001b[0;36m.5\u001b[0m\u001b[0;34m,\u001b[0m \u001b[0;36m1.\u001b[0m\u001b[0;34m]\u001b[0m\u001b[0;34m)\u001b[0m\u001b[0;34m\u001b[0m\u001b[0m\n\u001b[0m",
        "\u001b[0;32m/Users/lisaleemcb/.local/lib/python2.7/site-packages/sncosmo-1.1.dev518-py2.7-macosx-10.5-x86_64.egg/sncosmo/models.pyc\u001b[0m in \u001b[0;36mbandflux\u001b[0;34m(self, band, time, zp, zpsys)\u001b[0m\n\u001b[1;32m   1293\u001b[0m         \u001b[0;32mexcept\u001b[0m \u001b[0mValueError\u001b[0m \u001b[0;32mas\u001b[0m \u001b[0me\u001b[0m\u001b[0;34m:\u001b[0m\u001b[0;34m\u001b[0m\u001b[0m\n\u001b[1;32m   1294\u001b[0m             \u001b[0m_check_for_fitpack_error\u001b[0m\u001b[0;34m(\u001b[0m\u001b[0me\u001b[0m\u001b[0;34m,\u001b[0m \u001b[0mtime\u001b[0m\u001b[0;34m,\u001b[0m \u001b[0;34m'time'\u001b[0m\u001b[0;34m)\u001b[0m\u001b[0;34m\u001b[0m\u001b[0m\n\u001b[0;32m-> 1295\u001b[0;31m             \u001b[0;32mraise\u001b[0m \u001b[0me\u001b[0m\u001b[0;34m\u001b[0m\u001b[0m\n\u001b[0m\u001b[1;32m   1296\u001b[0m \u001b[0;34m\u001b[0m\u001b[0m\n\u001b[1;32m   1297\u001b[0m     \u001b[0;32mdef\u001b[0m \u001b[0m_bandflux_rcov\u001b[0m\u001b[0;34m(\u001b[0m\u001b[0mself\u001b[0m\u001b[0;34m,\u001b[0m \u001b[0mband\u001b[0m\u001b[0;34m,\u001b[0m \u001b[0mtime\u001b[0m\u001b[0;34m)\u001b[0m\u001b[0;34m:\u001b[0m\u001b[0;34m\u001b[0m\u001b[0m\n",
        "\u001b[0;31mValueError\u001b[0m: Buffer dtype mismatch, expected 'double' but got 'long'"
       ]
      }
     ],
     "prompt_number": 9
    },
    {
     "cell_type": "code",
     "collapsed": false,
     "input": [
      "model_mw_ext.color('desi', 'desr', time=[.1, .5, 1.], magsys='ab')"
     ],
     "language": "python",
     "metadata": {},
     "outputs": [
      {
       "metadata": {},
       "output_type": "pyout",
       "prompt_number": 10,
       "text": [
        "array([ 0.54783799,  0.56370346,  0.5826175 ])"
       ]
      }
     ],
     "prompt_number": 10
    },
    {
     "cell_type": "code",
     "collapsed": false,
     "input": [
      "model_mw_ext.color('sdssi', 'sdssr', time=[.1, .5, 1.], magsys='ab')"
     ],
     "language": "python",
     "metadata": {},
     "outputs": [
      {
       "ename": "ValueError",
       "evalue": "Buffer dtype mismatch, expected 'double' but got 'long'",
       "output_type": "pyerr",
       "traceback": [
        "\u001b[0;31m---------------------------------------------------------------------------\u001b[0m\n\u001b[0;31mValueError\u001b[0m                                Traceback (most recent call last)",
        "\u001b[0;32m<ipython-input-11-45f81cf7f79a>\u001b[0m in \u001b[0;36m<module>\u001b[0;34m()\u001b[0m\n\u001b[0;32m----> 1\u001b[0;31m \u001b[0mmodel_mw_ext\u001b[0m\u001b[0;34m.\u001b[0m\u001b[0mcolor\u001b[0m\u001b[0;34m(\u001b[0m\u001b[0;34m'sdssi'\u001b[0m\u001b[0;34m,\u001b[0m \u001b[0;34m'sdssr'\u001b[0m\u001b[0;34m,\u001b[0m \u001b[0mtime\u001b[0m\u001b[0;34m=\u001b[0m\u001b[0;34m[\u001b[0m\u001b[0;36m.1\u001b[0m\u001b[0;34m,\u001b[0m \u001b[0;36m.5\u001b[0m\u001b[0;34m,\u001b[0m \u001b[0;36m1.\u001b[0m\u001b[0;34m]\u001b[0m\u001b[0;34m,\u001b[0m \u001b[0mmagsys\u001b[0m\u001b[0;34m=\u001b[0m\u001b[0;34m'ab'\u001b[0m\u001b[0;34m)\u001b[0m\u001b[0;34m\u001b[0m\u001b[0m\n\u001b[0m",
        "\u001b[0;32m/Users/lisaleemcb/.local/lib/python2.7/site-packages/sncosmo-1.1.dev518-py2.7-macosx-10.5-x86_64.egg/sncosmo/models.pyc\u001b[0m in \u001b[0;36mcolor\u001b[0;34m(self, band1, band2, magsys, time)\u001b[0m\n\u001b[1;32m   1422\u001b[0m             \u001b[0;32mraise\u001b[0m \u001b[0mTypeError\u001b[0m\u001b[0;34m(\u001b[0m\u001b[0;34m\"Magnitude system argument must be scalar.\"\u001b[0m\u001b[0;34m)\u001b[0m\u001b[0;34m\u001b[0m\u001b[0m\n\u001b[1;32m   1423\u001b[0m \u001b[0;34m\u001b[0m\u001b[0m\n\u001b[0;32m-> 1424\u001b[0;31m         return (self.bandmag(band1, magsys, time) -\n\u001b[0m\u001b[1;32m   1425\u001b[0m                 self.bandmag(band2, magsys, time))\n\u001b[1;32m   1426\u001b[0m \u001b[0;34m\u001b[0m\u001b[0m\n",
        "\u001b[0;32m/Users/lisaleemcb/.local/lib/python2.7/site-packages/sncosmo-1.1.dev518-py2.7-macosx-10.5-x86_64.egg/sncosmo/models.pyc\u001b[0m in \u001b[0;36mbandmag\u001b[0;34m(self, band, magsys, time)\u001b[0m\n\u001b[1;32m   1387\u001b[0m             \u001b[0mThe\u001b[0m \u001b[0;32mreturn\u001b[0m \u001b[0mvalue\u001b[0m \u001b[0;32mis\u001b[0m \u001b[0man\u001b[0m \u001b[0;34m`\u001b[0m\u001b[0;34m~\u001b[0m\u001b[0mnumpy\u001b[0m\u001b[0;34m.\u001b[0m\u001b[0mndarray\u001b[0m\u001b[0;34m`\u001b[0m \u001b[0;32mif\u001b[0m \u001b[0many\u001b[0m \u001b[0mare\u001b[0m \u001b[0minterable\u001b[0m\u001b[0;34m.\u001b[0m\u001b[0;34m\u001b[0m\u001b[0m\n\u001b[1;32m   1388\u001b[0m         \"\"\"\n\u001b[0;32m-> 1389\u001b[0;31m         \u001b[0;32mreturn\u001b[0m \u001b[0m_bandmag\u001b[0m\u001b[0;34m(\u001b[0m\u001b[0mself\u001b[0m\u001b[0;34m,\u001b[0m \u001b[0mband\u001b[0m\u001b[0;34m,\u001b[0m \u001b[0mmagsys\u001b[0m\u001b[0;34m,\u001b[0m \u001b[0mtime\u001b[0m\u001b[0;34m)\u001b[0m\u001b[0;34m\u001b[0m\u001b[0m\n\u001b[0m\u001b[1;32m   1390\u001b[0m \u001b[0;34m\u001b[0m\u001b[0m\n\u001b[1;32m   1391\u001b[0m     \u001b[0;32mdef\u001b[0m \u001b[0mcolor\u001b[0m\u001b[0;34m(\u001b[0m\u001b[0mself\u001b[0m\u001b[0;34m,\u001b[0m \u001b[0mband1\u001b[0m\u001b[0;34m,\u001b[0m \u001b[0mband2\u001b[0m\u001b[0;34m,\u001b[0m \u001b[0mmagsys\u001b[0m\u001b[0;34m,\u001b[0m \u001b[0mtime\u001b[0m\u001b[0;34m)\u001b[0m\u001b[0;34m:\u001b[0m\u001b[0;34m\u001b[0m\u001b[0m\n",
        "\u001b[0;32m/Users/lisaleemcb/.local/lib/python2.7/site-packages/sncosmo-1.1.dev518-py2.7-macosx-10.5-x86_64.egg/sncosmo/models.pyc\u001b[0m in \u001b[0;36m_bandmag\u001b[0;34m(model, band, magsys, time_or_phase)\u001b[0m\n\u001b[1;32m    155\u001b[0m     \u001b[0mSource\u001b[0m \u001b[0;32mand\u001b[0m \u001b[0;34m`\u001b[0m\u001b[0;34m`\u001b[0m\u001b[0mtime\u001b[0m\u001b[0;34m`\u001b[0m\u001b[0;34m`\u001b[0m \u001b[0;32mis\u001b[0m \u001b[0mused\u001b[0m \u001b[0;32min\u001b[0m \u001b[0mModel\u001b[0m\u001b[0;34m.\u001b[0m\u001b[0;34m\u001b[0m\u001b[0m\n\u001b[1;32m    156\u001b[0m     \"\"\"\n\u001b[0;32m--> 157\u001b[0;31m     \u001b[0mbandflux\u001b[0m \u001b[0;34m=\u001b[0m \u001b[0m_bandflux\u001b[0m\u001b[0;34m(\u001b[0m\u001b[0mmodel\u001b[0m\u001b[0;34m,\u001b[0m \u001b[0mband\u001b[0m\u001b[0;34m,\u001b[0m \u001b[0mtime_or_phase\u001b[0m\u001b[0;34m,\u001b[0m \u001b[0mNone\u001b[0m\u001b[0;34m,\u001b[0m \u001b[0mNone\u001b[0m\u001b[0;34m)\u001b[0m\u001b[0;34m\u001b[0m\u001b[0m\n\u001b[0m\u001b[1;32m    158\u001b[0m     \u001b[0mband\u001b[0m\u001b[0;34m,\u001b[0m \u001b[0mmagsys\u001b[0m\u001b[0;34m,\u001b[0m \u001b[0mbandflux\u001b[0m \u001b[0;34m=\u001b[0m \u001b[0mnp\u001b[0m\u001b[0;34m.\u001b[0m\u001b[0mbroadcast_arrays\u001b[0m\u001b[0;34m(\u001b[0m\u001b[0mband\u001b[0m\u001b[0;34m,\u001b[0m \u001b[0mmagsys\u001b[0m\u001b[0;34m,\u001b[0m \u001b[0mbandflux\u001b[0m\u001b[0;34m)\u001b[0m\u001b[0;34m\u001b[0m\u001b[0m\n\u001b[1;32m    159\u001b[0m     \u001b[0mreturn_scalar\u001b[0m \u001b[0;34m=\u001b[0m \u001b[0;34m(\u001b[0m\u001b[0mband\u001b[0m\u001b[0;34m.\u001b[0m\u001b[0mndim\u001b[0m \u001b[0;34m==\u001b[0m \u001b[0;36m0\u001b[0m\u001b[0;34m)\u001b[0m\u001b[0;34m\u001b[0m\u001b[0m\n",
        "\u001b[0;32m/Users/lisaleemcb/.local/lib/python2.7/site-packages/sncosmo-1.1.dev518-py2.7-macosx-10.5-x86_64.egg/sncosmo/models.pyc\u001b[0m in \u001b[0;36m_bandflux\u001b[0;34m(model, band, time_or_phase, zp, zpsys)\u001b[0m\n\u001b[1;32m    131\u001b[0m \u001b[0;34m\u001b[0m\u001b[0m\n\u001b[1;32m    132\u001b[0m         \u001b[0;31m# Get the flux\u001b[0m\u001b[0;34m\u001b[0m\u001b[0;34m\u001b[0m\u001b[0m\n\u001b[0;32m--> 133\u001b[0;31m         \u001b[0mf\u001b[0m \u001b[0;34m=\u001b[0m \u001b[0mmodel\u001b[0m\u001b[0;34m.\u001b[0m\u001b[0m_flux\u001b[0m\u001b[0;34m(\u001b[0m\u001b[0mtime_or_phase\u001b[0m\u001b[0;34m[\u001b[0m\u001b[0mmask\u001b[0m\u001b[0;34m]\u001b[0m\u001b[0;34m,\u001b[0m \u001b[0mb\u001b[0m\u001b[0;34m.\u001b[0m\u001b[0mwave\u001b[0m\u001b[0;34m)\u001b[0m\u001b[0;34m\u001b[0m\u001b[0m\n\u001b[0m\u001b[1;32m    134\u001b[0m         \u001b[0mfsum\u001b[0m \u001b[0;34m=\u001b[0m \u001b[0mnp\u001b[0m\u001b[0;34m.\u001b[0m\u001b[0msum\u001b[0m\u001b[0;34m(\u001b[0m\u001b[0mf\u001b[0m \u001b[0;34m*\u001b[0m \u001b[0mb\u001b[0m\u001b[0;34m.\u001b[0m\u001b[0mtrans\u001b[0m \u001b[0;34m*\u001b[0m \u001b[0mb\u001b[0m\u001b[0;34m.\u001b[0m\u001b[0mwave\u001b[0m \u001b[0;34m*\u001b[0m \u001b[0mb\u001b[0m\u001b[0;34m.\u001b[0m\u001b[0mdwave\u001b[0m\u001b[0;34m,\u001b[0m \u001b[0maxis\u001b[0m\u001b[0;34m=\u001b[0m\u001b[0;36m1\u001b[0m\u001b[0;34m)\u001b[0m \u001b[0;34m/\u001b[0m \u001b[0mHC_ERG_AA\u001b[0m\u001b[0;34m\u001b[0m\u001b[0m\n\u001b[1;32m    135\u001b[0m \u001b[0;34m\u001b[0m\u001b[0m\n",
        "\u001b[0;32m/Users/lisaleemcb/.local/lib/python2.7/site-packages/sncosmo-1.1.dev518-py2.7-macosx-10.5-x86_64.egg/sncosmo/models.pyc\u001b[0m in \u001b[0;36m_flux\u001b[0;34m(self, time, wave)\u001b[0m\n\u001b[1;32m   1173\u001b[0m         \u001b[0;32mfor\u001b[0m \u001b[0meffect\u001b[0m\u001b[0;34m,\u001b[0m \u001b[0mframe\u001b[0m \u001b[0;32min\u001b[0m \u001b[0mzip\u001b[0m\u001b[0;34m(\u001b[0m\u001b[0mself\u001b[0m\u001b[0;34m.\u001b[0m\u001b[0m_effects\u001b[0m\u001b[0;34m,\u001b[0m \u001b[0mself\u001b[0m\u001b[0;34m.\u001b[0m\u001b[0m_effect_frames\u001b[0m\u001b[0;34m)\u001b[0m\u001b[0;34m:\u001b[0m\u001b[0;34m\u001b[0m\u001b[0m\n\u001b[1;32m   1174\u001b[0m             \u001b[0;32mif\u001b[0m \u001b[0mframe\u001b[0m \u001b[0;34m==\u001b[0m \u001b[0;34m'obs'\u001b[0m\u001b[0;34m:\u001b[0m\u001b[0;34m\u001b[0m\u001b[0m\n\u001b[0;32m-> 1175\u001b[0;31m                 \u001b[0mf\u001b[0m \u001b[0;34m=\u001b[0m \u001b[0meffect\u001b[0m\u001b[0;34m.\u001b[0m\u001b[0mpropagate\u001b[0m\u001b[0;34m(\u001b[0m\u001b[0mwave\u001b[0m\u001b[0;34m,\u001b[0m \u001b[0mf\u001b[0m\u001b[0;34m)\u001b[0m\u001b[0;34m\u001b[0m\u001b[0m\n\u001b[0m\u001b[1;32m   1176\u001b[0m             \u001b[0;32melse\u001b[0m\u001b[0;34m:\u001b[0m\u001b[0;34m\u001b[0m\u001b[0m\n\u001b[1;32m   1177\u001b[0m                 \u001b[0mf\u001b[0m \u001b[0;34m=\u001b[0m \u001b[0meffect\u001b[0m\u001b[0;34m.\u001b[0m\u001b[0mpropagate\u001b[0m\u001b[0;34m(\u001b[0m\u001b[0mrestwave\u001b[0m\u001b[0;34m,\u001b[0m \u001b[0mf\u001b[0m\u001b[0;34m)\u001b[0m\u001b[0;34m\u001b[0m\u001b[0m\n",
        "\u001b[0;32m/Users/lisaleemcb/.local/lib/python2.7/site-packages/sncosmo-1.1.dev518-py2.7-macosx-10.5-x86_64.egg/sncosmo/models.pyc\u001b[0m in \u001b[0;36mpropagate\u001b[0;34m(self, wave, flux)\u001b[0m\n\u001b[1;32m   1509\u001b[0m         \u001b[0;34m\"\"\"Propagate the flux.\"\"\"\u001b[0m\u001b[0;34m\u001b[0m\u001b[0m\n\u001b[1;32m   1510\u001b[0m         \u001b[0ma_v\u001b[0m \u001b[0;34m=\u001b[0m \u001b[0mself\u001b[0m\u001b[0;34m.\u001b[0m\u001b[0m_parameters\u001b[0m\u001b[0;34m[\u001b[0m\u001b[0;36m0\u001b[0m\u001b[0;34m]\u001b[0m \u001b[0;34m*\u001b[0m \u001b[0mself\u001b[0m\u001b[0;34m.\u001b[0m\u001b[0m_parameters\u001b[0m\u001b[0;34m[\u001b[0m\u001b[0;36m1\u001b[0m\u001b[0;34m]\u001b[0m\u001b[0;34m\u001b[0m\u001b[0m\n\u001b[0;32m-> 1511\u001b[0;31m         \u001b[0mtrans\u001b[0m \u001b[0;34m=\u001b[0m \u001b[0;36m10.\u001b[0m\u001b[0;34m**\u001b[0m\u001b[0;34m(\u001b[0m\u001b[0;34m-\u001b[0m\u001b[0;36m0.4\u001b[0m \u001b[0;34m*\u001b[0m \u001b[0mccm89\u001b[0m\u001b[0;34m(\u001b[0m\u001b[0mwave\u001b[0m\u001b[0;34m,\u001b[0m \u001b[0ma_v\u001b[0m\u001b[0;34m,\u001b[0m \u001b[0mself\u001b[0m\u001b[0;34m.\u001b[0m\u001b[0m_parameters\u001b[0m\u001b[0;34m[\u001b[0m\u001b[0;36m1\u001b[0m\u001b[0;34m]\u001b[0m\u001b[0;34m)\u001b[0m\u001b[0;34m)\u001b[0m\u001b[0;34m\u001b[0m\u001b[0m\n\u001b[0m\u001b[1;32m   1512\u001b[0m         \u001b[0;32mreturn\u001b[0m \u001b[0mtrans\u001b[0m \u001b[0;34m*\u001b[0m \u001b[0mflux\u001b[0m\u001b[0;34m\u001b[0m\u001b[0m\n\u001b[1;32m   1513\u001b[0m \u001b[0;34m\u001b[0m\u001b[0m\n",
        "\u001b[0;32m/Users/lisaleemcb/.local/lib/python2.7/site-packages/sncosmo-1.1.dev518-py2.7-macosx-10.5-x86_64.egg/sncosmo/_extinction.so\u001b[0m in \u001b[0;36msncosmo._extinction.ccm89 (sncosmo/_extinction.c:1980)\u001b[0;34m()\u001b[0m\n",
        "\u001b[0;31mValueError\u001b[0m: Buffer dtype mismatch, expected 'double' but got 'long'"
       ]
      }
     ],
     "prompt_number": 11
    },
    {
     "cell_type": "markdown",
     "metadata": {},
     "source": [
      "This also errors even if <code>mwebv=0.0</code>."
     ]
    },
    {
     "cell_type": "code",
     "collapsed": false,
     "input": [
      "model_mw_ext.set(mwebv=0.0)\n",
      "print model_mw_ext"
     ],
     "language": "python",
     "metadata": {},
     "outputs": [
      {
       "output_type": "stream",
       "stream": "stdout",
       "text": [
        "<Model at 0x108c272d0>\n",
        "source:\n",
        "  class      : TimeSeriesSource\n",
        "  name       : 'hsiao'\n",
        "  version    : 3.0\n",
        "  phases     : [-20, .., 85] days\n",
        "  wavelengths: [1000, .., 25000] Angstroms\n",
        "effect (name='host' frame='rest'):\n",
        "  class           : CCM89Dust\n",
        "  wavelength range: [909.09, 33333.3] Angstroms\n",
        "effect (name='mw' frame='obs'):\n",
        "  class           : CCM89Dust\n",
        "  wavelength range: [909.09, 33333.3] Angstroms\n",
        "parameters:\n",
        "  z         = 0.0\n",
        "  t0        = 0.0\n",
        "  amplitude = 1.0\n",
        "  hostebv   = 0.0\n",
        "  hostr_v   = 3.1000000000000001\n",
        "  mwebv     = 0.0\n",
        "  mwr_v     = 3.1000000000000001\n"
       ]
      }
     ],
     "prompt_number": 12
    },
    {
     "cell_type": "code",
     "collapsed": false,
     "input": [
      "model_mw_ext.bandflux('sdssi', time=[.1, .5, 1.])"
     ],
     "language": "python",
     "metadata": {},
     "outputs": [
      {
       "ename": "ValueError",
       "evalue": "Buffer dtype mismatch, expected 'double' but got 'long'",
       "output_type": "pyerr",
       "traceback": [
        "\u001b[0;31m---------------------------------------------------------------------------\u001b[0m\n\u001b[0;31mValueError\u001b[0m                                Traceback (most recent call last)",
        "\u001b[0;32m<ipython-input-13-990c71902ba2>\u001b[0m in \u001b[0;36m<module>\u001b[0;34m()\u001b[0m\n\u001b[0;32m----> 1\u001b[0;31m \u001b[0mmodel_mw_ext\u001b[0m\u001b[0;34m.\u001b[0m\u001b[0mbandflux\u001b[0m\u001b[0;34m(\u001b[0m\u001b[0;34m'sdssi'\u001b[0m\u001b[0;34m,\u001b[0m \u001b[0mtime\u001b[0m\u001b[0;34m=\u001b[0m\u001b[0;34m[\u001b[0m\u001b[0;36m.1\u001b[0m\u001b[0;34m,\u001b[0m \u001b[0;36m.5\u001b[0m\u001b[0;34m,\u001b[0m \u001b[0;36m1.\u001b[0m\u001b[0;34m]\u001b[0m\u001b[0;34m)\u001b[0m\u001b[0;34m\u001b[0m\u001b[0m\n\u001b[0m",
        "\u001b[0;32m/Users/lisaleemcb/.local/lib/python2.7/site-packages/sncosmo-1.1.dev518-py2.7-macosx-10.5-x86_64.egg/sncosmo/models.pyc\u001b[0m in \u001b[0;36mbandflux\u001b[0;34m(self, band, time, zp, zpsys)\u001b[0m\n\u001b[1;32m   1293\u001b[0m         \u001b[0;32mexcept\u001b[0m \u001b[0mValueError\u001b[0m \u001b[0;32mas\u001b[0m \u001b[0me\u001b[0m\u001b[0;34m:\u001b[0m\u001b[0;34m\u001b[0m\u001b[0m\n\u001b[1;32m   1294\u001b[0m             \u001b[0m_check_for_fitpack_error\u001b[0m\u001b[0;34m(\u001b[0m\u001b[0me\u001b[0m\u001b[0;34m,\u001b[0m \u001b[0mtime\u001b[0m\u001b[0;34m,\u001b[0m \u001b[0;34m'time'\u001b[0m\u001b[0;34m)\u001b[0m\u001b[0;34m\u001b[0m\u001b[0m\n\u001b[0;32m-> 1295\u001b[0;31m             \u001b[0;32mraise\u001b[0m \u001b[0me\u001b[0m\u001b[0;34m\u001b[0m\u001b[0m\n\u001b[0m\u001b[1;32m   1296\u001b[0m \u001b[0;34m\u001b[0m\u001b[0m\n\u001b[1;32m   1297\u001b[0m     \u001b[0;32mdef\u001b[0m \u001b[0m_bandflux_rcov\u001b[0m\u001b[0;34m(\u001b[0m\u001b[0mself\u001b[0m\u001b[0;34m,\u001b[0m \u001b[0mband\u001b[0m\u001b[0;34m,\u001b[0m \u001b[0mtime\u001b[0m\u001b[0;34m)\u001b[0m\u001b[0;34m:\u001b[0m\u001b[0;34m\u001b[0m\u001b[0m\n",
        "\u001b[0;31mValueError\u001b[0m: Buffer dtype mismatch, expected 'double' but got 'long'"
       ]
      }
     ],
     "prompt_number": 13
    },
    {
     "cell_type": "code",
     "collapsed": false,
     "input": [
      "model_mw_ext.color('sdssi', 'sdssr', time=[.1, .5, 1.], magsys='ab')"
     ],
     "language": "python",
     "metadata": {},
     "outputs": [
      {
       "ename": "ValueError",
       "evalue": "Buffer dtype mismatch, expected 'double' but got 'long'",
       "output_type": "pyerr",
       "traceback": [
        "\u001b[0;31m---------------------------------------------------------------------------\u001b[0m\n\u001b[0;31mValueError\u001b[0m                                Traceback (most recent call last)",
        "\u001b[0;32m<ipython-input-14-45f81cf7f79a>\u001b[0m in \u001b[0;36m<module>\u001b[0;34m()\u001b[0m\n\u001b[0;32m----> 1\u001b[0;31m \u001b[0mmodel_mw_ext\u001b[0m\u001b[0;34m.\u001b[0m\u001b[0mcolor\u001b[0m\u001b[0;34m(\u001b[0m\u001b[0;34m'sdssi'\u001b[0m\u001b[0;34m,\u001b[0m \u001b[0;34m'sdssr'\u001b[0m\u001b[0;34m,\u001b[0m \u001b[0mtime\u001b[0m\u001b[0;34m=\u001b[0m\u001b[0;34m[\u001b[0m\u001b[0;36m.1\u001b[0m\u001b[0;34m,\u001b[0m \u001b[0;36m.5\u001b[0m\u001b[0;34m,\u001b[0m \u001b[0;36m1.\u001b[0m\u001b[0;34m]\u001b[0m\u001b[0;34m,\u001b[0m \u001b[0mmagsys\u001b[0m\u001b[0;34m=\u001b[0m\u001b[0;34m'ab'\u001b[0m\u001b[0;34m)\u001b[0m\u001b[0;34m\u001b[0m\u001b[0m\n\u001b[0m",
        "\u001b[0;32m/Users/lisaleemcb/.local/lib/python2.7/site-packages/sncosmo-1.1.dev518-py2.7-macosx-10.5-x86_64.egg/sncosmo/models.pyc\u001b[0m in \u001b[0;36mcolor\u001b[0;34m(self, band1, band2, magsys, time)\u001b[0m\n\u001b[1;32m   1422\u001b[0m             \u001b[0;32mraise\u001b[0m \u001b[0mTypeError\u001b[0m\u001b[0;34m(\u001b[0m\u001b[0;34m\"Magnitude system argument must be scalar.\"\u001b[0m\u001b[0;34m)\u001b[0m\u001b[0;34m\u001b[0m\u001b[0m\n\u001b[1;32m   1423\u001b[0m \u001b[0;34m\u001b[0m\u001b[0m\n\u001b[0;32m-> 1424\u001b[0;31m         return (self.bandmag(band1, magsys, time) -\n\u001b[0m\u001b[1;32m   1425\u001b[0m                 self.bandmag(band2, magsys, time))\n\u001b[1;32m   1426\u001b[0m \u001b[0;34m\u001b[0m\u001b[0m\n",
        "\u001b[0;32m/Users/lisaleemcb/.local/lib/python2.7/site-packages/sncosmo-1.1.dev518-py2.7-macosx-10.5-x86_64.egg/sncosmo/models.pyc\u001b[0m in \u001b[0;36mbandmag\u001b[0;34m(self, band, magsys, time)\u001b[0m\n\u001b[1;32m   1387\u001b[0m             \u001b[0mThe\u001b[0m \u001b[0;32mreturn\u001b[0m \u001b[0mvalue\u001b[0m \u001b[0;32mis\u001b[0m \u001b[0man\u001b[0m \u001b[0;34m`\u001b[0m\u001b[0;34m~\u001b[0m\u001b[0mnumpy\u001b[0m\u001b[0;34m.\u001b[0m\u001b[0mndarray\u001b[0m\u001b[0;34m`\u001b[0m \u001b[0;32mif\u001b[0m \u001b[0many\u001b[0m \u001b[0mare\u001b[0m \u001b[0minterable\u001b[0m\u001b[0;34m.\u001b[0m\u001b[0;34m\u001b[0m\u001b[0m\n\u001b[1;32m   1388\u001b[0m         \"\"\"\n\u001b[0;32m-> 1389\u001b[0;31m         \u001b[0;32mreturn\u001b[0m \u001b[0m_bandmag\u001b[0m\u001b[0;34m(\u001b[0m\u001b[0mself\u001b[0m\u001b[0;34m,\u001b[0m \u001b[0mband\u001b[0m\u001b[0;34m,\u001b[0m \u001b[0mmagsys\u001b[0m\u001b[0;34m,\u001b[0m \u001b[0mtime\u001b[0m\u001b[0;34m)\u001b[0m\u001b[0;34m\u001b[0m\u001b[0m\n\u001b[0m\u001b[1;32m   1390\u001b[0m \u001b[0;34m\u001b[0m\u001b[0m\n\u001b[1;32m   1391\u001b[0m     \u001b[0;32mdef\u001b[0m \u001b[0mcolor\u001b[0m\u001b[0;34m(\u001b[0m\u001b[0mself\u001b[0m\u001b[0;34m,\u001b[0m \u001b[0mband1\u001b[0m\u001b[0;34m,\u001b[0m \u001b[0mband2\u001b[0m\u001b[0;34m,\u001b[0m \u001b[0mmagsys\u001b[0m\u001b[0;34m,\u001b[0m \u001b[0mtime\u001b[0m\u001b[0;34m)\u001b[0m\u001b[0;34m:\u001b[0m\u001b[0;34m\u001b[0m\u001b[0m\n",
        "\u001b[0;32m/Users/lisaleemcb/.local/lib/python2.7/site-packages/sncosmo-1.1.dev518-py2.7-macosx-10.5-x86_64.egg/sncosmo/models.pyc\u001b[0m in \u001b[0;36m_bandmag\u001b[0;34m(model, band, magsys, time_or_phase)\u001b[0m\n\u001b[1;32m    155\u001b[0m     \u001b[0mSource\u001b[0m \u001b[0;32mand\u001b[0m \u001b[0;34m`\u001b[0m\u001b[0;34m`\u001b[0m\u001b[0mtime\u001b[0m\u001b[0;34m`\u001b[0m\u001b[0;34m`\u001b[0m \u001b[0;32mis\u001b[0m \u001b[0mused\u001b[0m \u001b[0;32min\u001b[0m \u001b[0mModel\u001b[0m\u001b[0;34m.\u001b[0m\u001b[0;34m\u001b[0m\u001b[0m\n\u001b[1;32m    156\u001b[0m     \"\"\"\n\u001b[0;32m--> 157\u001b[0;31m     \u001b[0mbandflux\u001b[0m \u001b[0;34m=\u001b[0m \u001b[0m_bandflux\u001b[0m\u001b[0;34m(\u001b[0m\u001b[0mmodel\u001b[0m\u001b[0;34m,\u001b[0m \u001b[0mband\u001b[0m\u001b[0;34m,\u001b[0m \u001b[0mtime_or_phase\u001b[0m\u001b[0;34m,\u001b[0m \u001b[0mNone\u001b[0m\u001b[0;34m,\u001b[0m \u001b[0mNone\u001b[0m\u001b[0;34m)\u001b[0m\u001b[0;34m\u001b[0m\u001b[0m\n\u001b[0m\u001b[1;32m    158\u001b[0m     \u001b[0mband\u001b[0m\u001b[0;34m,\u001b[0m \u001b[0mmagsys\u001b[0m\u001b[0;34m,\u001b[0m \u001b[0mbandflux\u001b[0m \u001b[0;34m=\u001b[0m \u001b[0mnp\u001b[0m\u001b[0;34m.\u001b[0m\u001b[0mbroadcast_arrays\u001b[0m\u001b[0;34m(\u001b[0m\u001b[0mband\u001b[0m\u001b[0;34m,\u001b[0m \u001b[0mmagsys\u001b[0m\u001b[0;34m,\u001b[0m \u001b[0mbandflux\u001b[0m\u001b[0;34m)\u001b[0m\u001b[0;34m\u001b[0m\u001b[0m\n\u001b[1;32m    159\u001b[0m     \u001b[0mreturn_scalar\u001b[0m \u001b[0;34m=\u001b[0m \u001b[0;34m(\u001b[0m\u001b[0mband\u001b[0m\u001b[0;34m.\u001b[0m\u001b[0mndim\u001b[0m \u001b[0;34m==\u001b[0m \u001b[0;36m0\u001b[0m\u001b[0;34m)\u001b[0m\u001b[0;34m\u001b[0m\u001b[0m\n",
        "\u001b[0;32m/Users/lisaleemcb/.local/lib/python2.7/site-packages/sncosmo-1.1.dev518-py2.7-macosx-10.5-x86_64.egg/sncosmo/models.pyc\u001b[0m in \u001b[0;36m_bandflux\u001b[0;34m(model, band, time_or_phase, zp, zpsys)\u001b[0m\n\u001b[1;32m    131\u001b[0m \u001b[0;34m\u001b[0m\u001b[0m\n\u001b[1;32m    132\u001b[0m         \u001b[0;31m# Get the flux\u001b[0m\u001b[0;34m\u001b[0m\u001b[0;34m\u001b[0m\u001b[0m\n\u001b[0;32m--> 133\u001b[0;31m         \u001b[0mf\u001b[0m \u001b[0;34m=\u001b[0m \u001b[0mmodel\u001b[0m\u001b[0;34m.\u001b[0m\u001b[0m_flux\u001b[0m\u001b[0;34m(\u001b[0m\u001b[0mtime_or_phase\u001b[0m\u001b[0;34m[\u001b[0m\u001b[0mmask\u001b[0m\u001b[0;34m]\u001b[0m\u001b[0;34m,\u001b[0m \u001b[0mb\u001b[0m\u001b[0;34m.\u001b[0m\u001b[0mwave\u001b[0m\u001b[0;34m)\u001b[0m\u001b[0;34m\u001b[0m\u001b[0m\n\u001b[0m\u001b[1;32m    134\u001b[0m         \u001b[0mfsum\u001b[0m \u001b[0;34m=\u001b[0m \u001b[0mnp\u001b[0m\u001b[0;34m.\u001b[0m\u001b[0msum\u001b[0m\u001b[0;34m(\u001b[0m\u001b[0mf\u001b[0m \u001b[0;34m*\u001b[0m \u001b[0mb\u001b[0m\u001b[0;34m.\u001b[0m\u001b[0mtrans\u001b[0m \u001b[0;34m*\u001b[0m \u001b[0mb\u001b[0m\u001b[0;34m.\u001b[0m\u001b[0mwave\u001b[0m \u001b[0;34m*\u001b[0m \u001b[0mb\u001b[0m\u001b[0;34m.\u001b[0m\u001b[0mdwave\u001b[0m\u001b[0;34m,\u001b[0m \u001b[0maxis\u001b[0m\u001b[0;34m=\u001b[0m\u001b[0;36m1\u001b[0m\u001b[0;34m)\u001b[0m \u001b[0;34m/\u001b[0m \u001b[0mHC_ERG_AA\u001b[0m\u001b[0;34m\u001b[0m\u001b[0m\n\u001b[1;32m    135\u001b[0m \u001b[0;34m\u001b[0m\u001b[0m\n",
        "\u001b[0;32m/Users/lisaleemcb/.local/lib/python2.7/site-packages/sncosmo-1.1.dev518-py2.7-macosx-10.5-x86_64.egg/sncosmo/models.pyc\u001b[0m in \u001b[0;36m_flux\u001b[0;34m(self, time, wave)\u001b[0m\n\u001b[1;32m   1173\u001b[0m         \u001b[0;32mfor\u001b[0m \u001b[0meffect\u001b[0m\u001b[0;34m,\u001b[0m \u001b[0mframe\u001b[0m \u001b[0;32min\u001b[0m \u001b[0mzip\u001b[0m\u001b[0;34m(\u001b[0m\u001b[0mself\u001b[0m\u001b[0;34m.\u001b[0m\u001b[0m_effects\u001b[0m\u001b[0;34m,\u001b[0m \u001b[0mself\u001b[0m\u001b[0;34m.\u001b[0m\u001b[0m_effect_frames\u001b[0m\u001b[0;34m)\u001b[0m\u001b[0;34m:\u001b[0m\u001b[0;34m\u001b[0m\u001b[0m\n\u001b[1;32m   1174\u001b[0m             \u001b[0;32mif\u001b[0m \u001b[0mframe\u001b[0m \u001b[0;34m==\u001b[0m \u001b[0;34m'obs'\u001b[0m\u001b[0;34m:\u001b[0m\u001b[0;34m\u001b[0m\u001b[0m\n\u001b[0;32m-> 1175\u001b[0;31m                 \u001b[0mf\u001b[0m \u001b[0;34m=\u001b[0m \u001b[0meffect\u001b[0m\u001b[0;34m.\u001b[0m\u001b[0mpropagate\u001b[0m\u001b[0;34m(\u001b[0m\u001b[0mwave\u001b[0m\u001b[0;34m,\u001b[0m \u001b[0mf\u001b[0m\u001b[0;34m)\u001b[0m\u001b[0;34m\u001b[0m\u001b[0m\n\u001b[0m\u001b[1;32m   1176\u001b[0m             \u001b[0;32melse\u001b[0m\u001b[0;34m:\u001b[0m\u001b[0;34m\u001b[0m\u001b[0m\n\u001b[1;32m   1177\u001b[0m                 \u001b[0mf\u001b[0m \u001b[0;34m=\u001b[0m \u001b[0meffect\u001b[0m\u001b[0;34m.\u001b[0m\u001b[0mpropagate\u001b[0m\u001b[0;34m(\u001b[0m\u001b[0mrestwave\u001b[0m\u001b[0;34m,\u001b[0m \u001b[0mf\u001b[0m\u001b[0;34m)\u001b[0m\u001b[0;34m\u001b[0m\u001b[0m\n",
        "\u001b[0;32m/Users/lisaleemcb/.local/lib/python2.7/site-packages/sncosmo-1.1.dev518-py2.7-macosx-10.5-x86_64.egg/sncosmo/models.pyc\u001b[0m in \u001b[0;36mpropagate\u001b[0;34m(self, wave, flux)\u001b[0m\n\u001b[1;32m   1509\u001b[0m         \u001b[0;34m\"\"\"Propagate the flux.\"\"\"\u001b[0m\u001b[0;34m\u001b[0m\u001b[0m\n\u001b[1;32m   1510\u001b[0m         \u001b[0ma_v\u001b[0m \u001b[0;34m=\u001b[0m \u001b[0mself\u001b[0m\u001b[0;34m.\u001b[0m\u001b[0m_parameters\u001b[0m\u001b[0;34m[\u001b[0m\u001b[0;36m0\u001b[0m\u001b[0;34m]\u001b[0m \u001b[0;34m*\u001b[0m \u001b[0mself\u001b[0m\u001b[0;34m.\u001b[0m\u001b[0m_parameters\u001b[0m\u001b[0;34m[\u001b[0m\u001b[0;36m1\u001b[0m\u001b[0;34m]\u001b[0m\u001b[0;34m\u001b[0m\u001b[0m\n\u001b[0;32m-> 1511\u001b[0;31m         \u001b[0mtrans\u001b[0m \u001b[0;34m=\u001b[0m \u001b[0;36m10.\u001b[0m\u001b[0;34m**\u001b[0m\u001b[0;34m(\u001b[0m\u001b[0;34m-\u001b[0m\u001b[0;36m0.4\u001b[0m \u001b[0;34m*\u001b[0m \u001b[0mccm89\u001b[0m\u001b[0;34m(\u001b[0m\u001b[0mwave\u001b[0m\u001b[0;34m,\u001b[0m \u001b[0ma_v\u001b[0m\u001b[0;34m,\u001b[0m \u001b[0mself\u001b[0m\u001b[0;34m.\u001b[0m\u001b[0m_parameters\u001b[0m\u001b[0;34m[\u001b[0m\u001b[0;36m1\u001b[0m\u001b[0;34m]\u001b[0m\u001b[0;34m)\u001b[0m\u001b[0;34m)\u001b[0m\u001b[0;34m\u001b[0m\u001b[0m\n\u001b[0m\u001b[1;32m   1512\u001b[0m         \u001b[0;32mreturn\u001b[0m \u001b[0mtrans\u001b[0m \u001b[0;34m*\u001b[0m \u001b[0mflux\u001b[0m\u001b[0;34m\u001b[0m\u001b[0m\n\u001b[1;32m   1513\u001b[0m \u001b[0;34m\u001b[0m\u001b[0m\n",
        "\u001b[0;32m/Users/lisaleemcb/.local/lib/python2.7/site-packages/sncosmo-1.1.dev518-py2.7-macosx-10.5-x86_64.egg/sncosmo/_extinction.so\u001b[0m in \u001b[0;36msncosmo._extinction.ccm89 (sncosmo/_extinction.c:1980)\u001b[0;34m()\u001b[0m\n",
        "\u001b[0;31mValueError\u001b[0m: Buffer dtype mismatch, expected 'double' but got 'long'"
       ]
      }
     ],
     "prompt_number": 14
    },
    {
     "cell_type": "heading",
     "level": 3,
     "metadata": {},
     "source": [
      "Compare datatypes"
     ]
    },
    {
     "cell_type": "code",
     "collapsed": false,
     "input": [
      "bpdesi = sncosmo.get_bandpass('desi')"
     ],
     "language": "python",
     "metadata": {},
     "outputs": [],
     "prompt_number": 15
    },
    {
     "cell_type": "code",
     "collapsed": false,
     "input": [
      "bpdesi.wave.dtype"
     ],
     "language": "python",
     "metadata": {},
     "outputs": [
      {
       "metadata": {},
       "output_type": "pyout",
       "prompt_number": 16,
       "text": [
        "dtype('float64')"
       ]
      }
     ],
     "prompt_number": 16
    },
    {
     "cell_type": "code",
     "collapsed": false,
     "input": [
      "bpi = sncosmo.get_bandpass('sdssi')"
     ],
     "language": "python",
     "metadata": {},
     "outputs": [],
     "prompt_number": 17
    },
    {
     "cell_type": "code",
     "collapsed": false,
     "input": [
      "bpi.wave.dtype"
     ],
     "language": "python",
     "metadata": {},
     "outputs": [
      {
       "metadata": {},
       "output_type": "pyout",
       "prompt_number": 18,
       "text": [
        "dtype('int64')"
       ]
      }
     ],
     "prompt_number": 18
    },
    {
     "cell_type": "markdown",
     "metadata": {},
     "source": [
      "So DES and SDSS have different datatypes for the wave attribute.  If we instead give <code>bandflux()</code> a modified <code>sdssi</code>, where the values in the wave array has been converted to floats, then we see that the aforementioned functions no longer error in this way."
     ]
    },
    {
     "cell_type": "code",
     "collapsed": false,
     "input": [
      "sdssi =sncosmo.Bandpass(map(float, bpi.wave), bpi.trans)"
     ],
     "language": "python",
     "metadata": {},
     "outputs": [],
     "prompt_number": 19
    },
    {
     "cell_type": "code",
     "collapsed": false,
     "input": [
      "model_mw_ext.bandflux(sdssi, time=[.1, .5, 1.])"
     ],
     "language": "python",
     "metadata": {},
     "outputs": [
      {
       "metadata": {},
       "output_type": "pyout",
       "prompt_number": 20,
       "text": [
        "array([ 184468.48307092,  183021.60751745,  181130.50238601])"
       ]
      }
     ],
     "prompt_number": 20
    },
    {
     "cell_type": "code",
     "collapsed": false,
     "input": [
      "bpr = sncosmo.get_bandpass('sdssr')\n",
      "sdssr =sncosmo.Bandpass(map(float, bpr.wave), bpr.trans)"
     ],
     "language": "python",
     "metadata": {},
     "outputs": [],
     "prompt_number": 21
    },
    {
     "cell_type": "code",
     "collapsed": false,
     "input": [
      "model_mw_ext.color(sdssi, sdssr, time=[.1, .5, 1.], magsys='ab')"
     ],
     "language": "python",
     "metadata": {},
     "outputs": [
      {
       "metadata": {},
       "output_type": "pyout",
       "prompt_number": 22,
       "text": [
        "array([ 0.6247266 ,  0.63931893,  0.65543875])"
       ]
      }
     ],
     "prompt_number": 22
    },
    {
     "cell_type": "code",
     "collapsed": false,
     "input": [],
     "language": "python",
     "metadata": {},
     "outputs": []
    }
   ],
   "metadata": {}
  }
 ]
}