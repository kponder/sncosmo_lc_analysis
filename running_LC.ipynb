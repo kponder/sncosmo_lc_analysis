{
 "metadata": {
  "name": "",
  "signature": "sha256:994a8094a0f85ac8a2cb96b47d42af4c8e57517a539fc559a5161f5da269fba5"
 },
 "nbformat": 3,
 "nbformat_minor": 0,
 "worksheets": [
  {
   "cells": [
    {
     "cell_type": "code",
     "collapsed": false,
     "input": [
      "%matplotlib inline\n",
      "\n",
      "import sncosmo\n",
      "import triangle\n",
      "\n",
      "import lc\n",
      "import json"
     ],
     "language": "python",
     "metadata": {},
     "outputs": []
    },
    {
     "cell_type": "code",
     "collapsed": false,
     "input": [
      "import matplotlib.pyplot as plt\n",
      "import os\n",
      "import numpy as np\n",
      "from astropy.units import Unit"
     ],
     "language": "python",
     "metadata": {},
     "outputs": []
    },
    {
     "cell_type": "code",
     "collapsed": false,
     "input": [
      "bandPassList = ['u', 'g', 'r', 'i', 'z', 'y']\n",
      "banddir = os.path.join(os.getenv('THROUGHPUTS_DIR'), 'baseline')\n",
      "# lsstbands = list()\n",
      "# lsstbp = dict()\n",
      "\n",
      "for band in bandPassList:\n",
      "\n",
      "    # setup sncosmo bandpasses\n",
      "    bandfname = banddir + \"/total_\" + band + '.dat'\n",
      "\n",
      "\n",
      "    # register the LSST bands to the SNCosmo registry\n",
      "    # Not needed for LSST, but useful to compare independent codes\n",
      "    # Usually the next two lines can be merged,\n",
      "    # but there is an astropy bug currently which affects only OSX.\n",
      "    numpyband = np.loadtxt(bandfname)\n",
      "    sncosmoband = sncosmo.Bandpass(wave=numpyband[:, 0],\n",
      "                                   trans=numpyband[:, 1],\n",
      "                                   wave_unit=Unit('nm'),\n",
      "                                   name='LSST_' + band)\n",
      "\n",
      "    sncosmo.registry.register(sncosmoband, force=True)"
     ],
     "language": "python",
     "metadata": {},
     "outputs": []
    },
    {
     "cell_type": "code",
     "collapsed": false,
     "input": [
      "model = sncosmo.Model(source='salt2-extended')\n",
      "params = {'z': 1.06371, 't0': 50916.5, 'x0': 1.695e-06, 'x1': -0.708466, 'c': 0.0178018}\n",
      "model.set(**params)"
     ],
     "language": "python",
     "metadata": {},
     "outputs": []
    },
    {
     "cell_type": "code",
     "collapsed": false,
     "input": [
      "test = lc.LC(model)"
     ],
     "language": "python",
     "metadata": {},
     "outputs": []
    },
    {
     "cell_type": "code",
     "collapsed": false,
     "input": [
      "test.metadata()"
     ],
     "language": "python",
     "metadata": {},
     "outputs": []
    },
    {
     "cell_type": "code",
     "collapsed": false,
     "input": [
      "test.fitOut"
     ],
     "language": "python",
     "metadata": {},
     "outputs": []
    },
    {
     "cell_type": "code",
     "collapsed": false,
     "input": [
      "test.fitModel"
     ],
     "language": "python",
     "metadata": {},
     "outputs": []
    },
    {
     "cell_type": "code",
     "collapsed": false,
     "input": [
      "test.mcmcOut"
     ],
     "language": "python",
     "metadata": {},
     "outputs": []
    },
    {
     "cell_type": "code",
     "collapsed": false,
     "input": [
      "test.nestOut"
     ],
     "language": "python",
     "metadata": {},
     "outputs": []
    },
    {
     "cell_type": "code",
     "collapsed": false,
     "input": [
      "test.plotLC(test)"
     ],
     "language": "python",
     "metadata": {},
     "outputs": []
    },
    {
     "cell_type": "code",
     "collapsed": false,
     "input": [
      "test.plotTrace(test)"
     ],
     "language": "python",
     "metadata": {},
     "outputs": []
    },
    {
     "cell_type": "markdown",
     "metadata": {},
     "source": [
      "- how do we want to vary the random value added to the flux that mimics sky noise\n",
      "\n",
      "- change class methods to static methods\n",
      "\n",
      "- make class methods to handles data file type\n",
      "\n",
      "- need a serialization method for storing the fit results\n",
      "\n",
      "- just use the time.clock() feature\n"
     ]
    },
    {
     "cell_type": "code",
     "collapsed": false,
     "input": [
      "test.plotCorner(test)"
     ],
     "language": "python",
     "metadata": {},
     "outputs": []
    },
    {
     "cell_type": "code",
     "collapsed": false,
     "input": [],
     "language": "python",
     "metadata": {},
     "outputs": []
    }
   ],
   "metadata": {}
  }
 ]
}