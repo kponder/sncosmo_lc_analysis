{
 "metadata": {
  "name": "",
  "signature": "sha256:e049d701de049e7aad9eec2d27941eb2eaf3da88fbb916c6de84eb9d824fedfd"
 },
 "nbformat": 3,
 "nbformat_minor": 0,
 "worksheets": [
  {
   "cells": [
    {
     "cell_type": "code",
     "collapsed": false,
     "input": [
      "%matplotlib inline\n",
      "\n",
      "import sncosmo\n",
      "import triangle\n",
      "\n",
      "import lc"
     ],
     "language": "python",
     "metadata": {},
     "outputs": [],
     "prompt_number": 26
    },
    {
     "cell_type": "code",
     "collapsed": false,
     "input": [
      "import matplotlib.pyplot as plt\n",
      "import os\n",
      "import numpy as np\n",
      "from astropy.units import Unit"
     ],
     "language": "python",
     "metadata": {},
     "outputs": [],
     "prompt_number": 2
    },
    {
     "cell_type": "code",
     "collapsed": false,
     "input": [
      "bandPassList = ['u', 'g', 'r', 'i', 'z', 'y']\n",
      "banddir = os.path.join(os.getenv('THROUGHPUTS_DIR'), 'baseline')\n",
      "# lsstbands = list()\n",
      "# lsstbp = dict()\n",
      "\n",
      "for band in bandPassList:\n",
      "\n",
      "    # setup sncosmo bandpasses\n",
      "    bandfname = banddir + \"/total_\" + band + '.dat'\n",
      "\n",
      "\n",
      "    # register the LSST bands to the SNCosmo registry\n",
      "    # Not needed for LSST, but useful to compare independent codes\n",
      "    # Usually the next two lines can be merged,\n",
      "    # but there is an astropy bug currently which affects only OSX.\n",
      "    numpyband = np.loadtxt(bandfname)\n",
      "    sncosmoband = sncosmo.Bandpass(wave=numpyband[:, 0],\n",
      "                                   trans=numpyband[:, 1],\n",
      "                                   wave_unit=Unit('nm'),\n",
      "                                   name='LSST_' + band)\n",
      "\n",
      "    sncosmo.registry.register(sncosmoband, force=True)"
     ],
     "language": "python",
     "metadata": {},
     "outputs": [],
     "prompt_number": 3
    },
    {
     "cell_type": "code",
     "collapsed": false,
     "input": [
      "model = sncosmo.Model(source='salt2-extended')\n",
      "params = {'z': 1.06371, 't0': 50916.5, 'x0': 1.695e-06, 'x1': -0.708466, 'c': 0.0178018}\n",
      "model.set(z=params['z'], t0=params['t0'], x0=params['x0'], x1=params['x1'], c=params['c'])"
     ],
     "language": "python",
     "metadata": {},
     "outputs": [],
     "prompt_number": 4
    },
    {
     "cell_type": "code",
     "collapsed": false,
     "input": [
      "test = lc.LC(model)"
     ],
     "language": "python",
     "metadata": {},
     "outputs": [],
     "prompt_number": 5
    },
    {
     "cell_type": "code",
     "collapsed": false,
     "input": [
      "test.metadata()"
     ],
     "language": "python",
     "metadata": {},
     "outputs": [
      {
       "output_type": "stream",
       "stream": "stdout",
       "text": [
        "<Model at 0x108aad5d0>\n",
        "source:\n",
        "  class      : SALT2Source\n",
        "  name       : 'salt2-extended'\n",
        "  version    : 1.0\n",
        "  phases     : [-20, .., 50] days\n",
        "  wavelengths: [300, .., 18000] Angstroms\n",
        "parameters:\n",
        "  z  = 1.0637099999999999\n",
        "  t0 = 50916.5\n",
        "  x0 = 1.6950000000000001e-06\n",
        "  x1 = -0.70846600000000004\n",
        "  c  = 0.0178018\n"
       ]
      }
     ],
     "prompt_number": 6
    },
    {
     "cell_type": "code",
     "collapsed": false,
     "input": [
      "test.chi2"
     ],
     "language": "python",
     "metadata": {},
     "outputs": [
      {
       "output_type": "stream",
       "stream": "stdout",
       "text": [
        "running chi^2 fit\n"
       ]
      },
      {
       "metadata": {},
       "output_type": "pyout",
       "prompt_number": 7,
       "text": [
        "(       errors: OrderedDict([('t0', 0.869705464632716), ('x0', 6.352280833289825e-08), ('x1', 0.5247654629885447), ('c', 0.048283506458290146)])\n",
        "   parameters: array([  1.06371000e+00,   5.09155364e+04,   1.19022208e-06,\n",
        "        -1.37443229e+00,  -2.74520718e-02])\n",
        "      success: True\n",
        "         ndof: 79\n",
        "   covariance: array([[  7.56396247e-01,  -1.47415535e-08,   9.27513342e-02,\n",
        "          8.97227286e-03],\n",
        "       [ -1.47415535e-08,   4.03514718e-15,  -1.57647791e-08,\n",
        "          8.09694619e-10],\n",
        "       [  9.27513342e-02,  -1.57647791e-08,   2.79008873e-01,\n",
        "          1.00106837e-02],\n",
        "       [  8.97227286e-03,   8.09694619e-10,   1.00106837e-02,\n",
        "          2.35188405e-03]])\n",
        " vparam_names: ['t0', 'x0', 'x1', 'c']\n",
        "        chisq: 94.67428083189289\n",
        "  param_names: ['z', 't0', 'x0', 'x1', 'c']\n",
        "      message: 'Minimization exited successfully.'\n",
        "        ncall: 98,\n",
        " <sncosmo.models.Model at 0x10377ee90>)"
       ]
      }
     ],
     "prompt_number": 7
    },
    {
     "cell_type": "code",
     "collapsed": false,
     "input": [
      "test.mcmc"
     ],
     "language": "python",
     "metadata": {},
     "outputs": [
      {
       "output_type": "stream",
       "stream": "stdout",
       "text": [
        "running MCMC fit\n"
       ]
      },
      {
       "metadata": {},
       "output_type": "pyout",
       "prompt_number": 8,
       "text": [
        "(             vparam_names: ['t0', 'x0', 'x1', 'c']\n",
        "                   errors: OrderedDict([('t0', 0.92847571287291608), ('x0', 6.587268353065403e-08), ('x1', 0.52106002629101389), ('c', 0.048506813176268607)])\n",
        "                  samples: array([[  5.09154564e+04,   1.22891991e-06,  -1.50453862e+00,\n",
        "         -5.25722694e-02],\n",
        "       [  5.09166052e+04,   1.24447599e-06,  -1.37421101e+00,\n",
        "         -5.02669210e-02],\n",
        "       [  5.09163262e+04,   1.24613188e-06,  -1.45125654e+00,\n",
        "         -5.45618530e-02],\n",
        "       ..., \n",
        "       [  5.09157676e+04,   1.21519857e-06,  -1.93113451e+00,\n",
        "         -4.12839121e-02],\n",
        "       [  5.09156451e+04,   1.21931200e-06,  -1.96076292e+00,\n",
        "         -4.56951298e-02],\n",
        "       [  5.09156451e+04,   1.21931200e-06,  -1.96076292e+00,\n",
        "         -4.56951298e-02]])\n",
        "               parameters: array([  1.06371000e+00,   5.09157310e+04,   1.19094728e-06,\n",
        "        -1.24090726e+00,  -1.15974388e-02])\n",
        "              param_names: ['z', 't0', 'x0', 'x1', 'c']\n",
        " mean_acceptance_fraction: 0.59439999999999993\n",
        "               covariance: array([[  8.62067149e-01,  -2.03741204e-08,   1.47836094e-01,\n",
        "          1.12016193e-02],\n",
        "       [ -2.03741204e-08,   4.33921044e-15,  -1.71621667e-08,\n",
        "          7.41274315e-10],\n",
        "       [  1.47836094e-01,  -1.71621667e-08,   2.71503551e-01,\n",
        "          8.82007538e-03],\n",
        "       [  1.12016193e-02,   7.41274315e-10,   8.82007538e-03,\n",
        "          2.35291092e-03]]),\n",
        " <sncosmo.models.Model at 0x108972f90>)"
       ]
      }
     ],
     "prompt_number": 8
    },
    {
     "cell_type": "code",
     "collapsed": false,
     "input": [
      "test.nest"
     ],
     "language": "python",
     "metadata": {},
     "outputs": [
      {
       "metadata": {},
       "output_type": "pyout",
       "prompt_number": 29,
       "text": [
        "(        niter: 1809\n",
        "       errors: OrderedDict([('t0', 0.89591649601502077), ('x0', 6.3626680231643667e-08), ('x1', 0.53586617319774243), ('c', 0.05116827440352497)])\n",
        "   param_dict: OrderedDict([('z', 1.0637099999999999), ('t0', 50915.652942825123), ('x0', 1.1889507268719077e-06), ('x1', -1.2644647987115116), ('c', -0.011436802461485956)])\n",
        "   parameters: array([  1.06371000e+00,   5.09156529e+04,   1.18895073e-06,\n",
        "        -1.26446480e+00,  -1.14368025e-02])\n",
        "       bounds: {'c': (-0.3, 0.3), 'x1': (-3.0, 3.0), 'x0': (0.0, 1.4249497311936984e-05), 't0': (50774.025500000011, 51071.31319999999)}\n",
        "            h: 11.024028251178514\n",
        "     logprior: array([ -4.61016602,  -4.62016602,  -4.63016602, ..., -23.60517019,\n",
        "       -23.60517019, -23.60517019])\n",
        "         logz: -60.36993153062015\n",
        "         ndof: 79\n",
        "        ncall: 5589\n",
        " vparam_names: ['t0', 'x0', 'x1', 'c']\n",
        "      weights: array([  0.00000000e+00,   0.00000000e+00,   0.00000000e+00, ...,\n",
        "         2.48631785e-05,   2.43099786e-05,   2.30534015e-05])\n",
        "      samples: array([[  5.09118375e+04,   1.19767742e-05,  -3.13973886e-01,\n",
        "         -2.91027632e-01],\n",
        "       [  5.09524291e+04,   1.18249523e-05,   1.94913302e+00,\n",
        "         -2.37757581e-01],\n",
        "       [  5.09299442e+04,   1.25179983e-05,  -1.11469502e+00,\n",
        "         -4.44327547e-02],\n",
        "       ..., \n",
        "       [  5.09154754e+04,   1.20270833e-06,  -1.42811324e+00,\n",
        "         -3.04408159e-02],\n",
        "       [  5.09153416e+04,   1.19167283e-06,  -1.37781601e+00,\n",
        "         -3.75866442e-02],\n",
        "       [  5.09153425e+04,   1.21032086e-06,  -1.32966797e+00,\n",
        "         -2.17285334e-02]])\n",
        "         time: 349.7745769023895\n",
        "      logzerr: 0.3320245209495605\n",
        "   covariance: array([[  8.02666368e-01,  -1.58927521e-08,   9.62209740e-02,\n",
        "          9.11240877e-03],\n",
        "       [ -1.58927521e-08,   4.04835444e-15,  -1.62294510e-08,\n",
        "          9.49766310e-10],\n",
        "       [  9.62209740e-02,  -1.62294510e-08,   2.87152556e-01,\n",
        "          1.00743878e-02],\n",
        "       [  9.11240877e-03,   9.49766310e-10,   1.00743878e-02,\n",
        "          2.61819231e-03]])\n",
        "         logl: array([ -5.89794937e+04,  -5.13712213e+04,  -4.40619005e+04, ...,\n",
        "        -4.73668840e+01,  -4.73893850e+01,  -4.74424586e+01]),\n",
        " <sncosmo.models.Model at 0x1071f2110>)"
       ]
      }
     ],
     "prompt_number": 29
    },
    {
     "cell_type": "code",
     "collapsed": false,
     "input": [
      "chi2 = test.chi2\n",
      "mcmc = test.mcmc\n",
      "nest = test.chi2"
     ],
     "language": "python",
     "metadata": {},
     "outputs": [],
     "prompt_number": 11
    },
    {
     "cell_type": "code",
     "collapsed": false,
     "input": [
      "mcmcfig, nestfig = test.plotCorner()"
     ],
     "language": "python",
     "metadata": {},
     "outputs": []
    },
    {
     "cell_type": "code",
     "collapsed": false,
     "input": [
      "test.plotTrace()"
     ],
     "language": "python",
     "metadata": {},
     "outputs": []
    },
    {
     "cell_type": "code",
     "collapsed": false,
     "input": [
      "newtest = lc.LC(model)"
     ],
     "language": "python",
     "metadata": {},
     "outputs": [],
     "prompt_number": 27
    },
    {
     "cell_type": "code",
     "collapsed": false,
     "input": [
      "newtest.chi2 = chi2\n",
      "newtest.mcmc = mcmc\n",
      "newtest.nest = nest"
     ],
     "language": "python",
     "metadata": {},
     "outputs": [],
     "prompt_number": 17
    },
    {
     "cell_type": "code",
     "collapsed": false,
     "input": [
      "lc.LC.plotLC(newtest)"
     ],
     "language": "python",
     "metadata": {},
     "outputs": [
      {
       "ename": "NameError",
       "evalue": "global name 'data' is not defined",
       "output_type": "pyerr",
       "traceback": [
        "\u001b[0;31m---------------------------------------------------------------------------\u001b[0m\n\u001b[0;31mNameError\u001b[0m                                 Traceback (most recent call last)",
        "\u001b[0;32m<ipython-input-28-41fa1896e608>\u001b[0m in \u001b[0;36m<module>\u001b[0;34m()\u001b[0m\n\u001b[0;32m----> 1\u001b[0;31m \u001b[0mlc\u001b[0m\u001b[0;34m.\u001b[0m\u001b[0mLC\u001b[0m\u001b[0;34m.\u001b[0m\u001b[0mplotLC\u001b[0m\u001b[0;34m(\u001b[0m\u001b[0mnewtest\u001b[0m\u001b[0;34m)\u001b[0m\u001b[0;34m\u001b[0m\u001b[0m\n\u001b[0m",
        "\u001b[0;32m/Users/lisaleemcb/sncosmo_lc_analysis/lc.py\u001b[0m in \u001b[0;36mplotLC\u001b[0;34m(self, fits)\u001b[0m\n\u001b[1;32m     78\u001b[0m     \u001b[0;34m@\u001b[0m\u001b[0mstaticmethod\u001b[0m\u001b[0;34m\u001b[0m\u001b[0m\n\u001b[1;32m     79\u001b[0m     \u001b[0;32mdef\u001b[0m \u001b[0mplotLC\u001b[0m\u001b[0;34m(\u001b[0m\u001b[0mLC\u001b[0m\u001b[0;34m,\u001b[0m \u001b[0mfits\u001b[0m\u001b[0;34m=\u001b[0m\u001b[0mTrue\u001b[0m\u001b[0;34m)\u001b[0m\u001b[0;34m:\u001b[0m\u001b[0;34m\u001b[0m\u001b[0m\n\u001b[0;32m---> 80\u001b[0;31m         \u001b[0mdata\u001b[0m \u001b[0;34m=\u001b[0m \u001b[0mLC\u001b[0m\u001b[0;34m.\u001b[0m\u001b[0mdata\u001b[0m\u001b[0;34m\u001b[0m\u001b[0m\n\u001b[0m\u001b[1;32m     81\u001b[0m         \u001b[0mmodel\u001b[0m \u001b[0;34m=\u001b[0m \u001b[0mself\u001b[0m\u001b[0;34m.\u001b[0m\u001b[0mmodel\u001b[0m\u001b[0;34m\u001b[0m\u001b[0m\n\u001b[1;32m     82\u001b[0m         \u001b[0mchi2_model\u001b[0m \u001b[0;34m=\u001b[0m \u001b[0mself\u001b[0m\u001b[0;34m.\u001b[0m\u001b[0m_chi2\u001b[0m\u001b[0;34m\u001b[0m\u001b[0m\n",
        "\u001b[0;31mNameError\u001b[0m: global name 'data' is not defined"
       ]
      }
     ],
     "prompt_number": 28
    },
    {
     "cell_type": "markdown",
     "metadata": {},
     "source": [
      "- how do we want to vary the random value added to the flux that mimics sky noise\n",
      "\n",
      "- change class methods to static methods\n",
      "\n",
      "- make class methods to handles data file type\n"
     ]
    },
    {
     "cell_type": "markdown",
     "metadata": {},
     "source": [
      "static method, class method, timing methods (import time)"
     ]
    }
   ],
   "metadata": {}
  }
 ]
}