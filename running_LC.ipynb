{
 "metadata": {
  "name": "",
  "signature": "sha256:debb2fb730967b3c72db3c1ab4ad6816e25c1831357b2ce85c970f8465333fc3"
 },
 "nbformat": 3,
 "nbformat_minor": 0,
 "worksheets": [
  {
   "cells": [
    {
     "cell_type": "code",
     "collapsed": false,
     "input": [
      "import sncosmo"
     ],
     "language": "python",
     "metadata": {},
     "outputs": [],
     "prompt_number": 1
    },
    {
     "cell_type": "code",
     "collapsed": false,
     "input": [
      "import os\n",
      "import numpy as np\n",
      "from astropy.units import Unit\n",
      "import sncosmo"
     ],
     "language": "python",
     "metadata": {},
     "outputs": [],
     "prompt_number": 2
    },
    {
     "cell_type": "code",
     "collapsed": false,
     "input": [
      "bandPassList = ['u', 'g', 'r', 'i', 'z', 'y']\n",
      "banddir = os.path.join(os.getenv('THROUGHPUTS_DIR'), 'baseline')\n",
      "# lsstbands = list()\n",
      "# lsstbp = dict()\n",
      "\n",
      "for band in bandPassList:\n",
      "\n",
      "    # setup sncosmo bandpasses\n",
      "    bandfname = banddir + \"/total_\" + band + '.dat'\n",
      "\n",
      "\n",
      "    # register the LSST bands to the SNCosmo registry\n",
      "    # Not needed for LSST, but useful to compare independent codes\n",
      "    # Usually the next two lines can be merged,\n",
      "    # but there is an astropy bug currently which affects only OSX.\n",
      "    numpyband = np.loadtxt(bandfname)\n",
      "    sncosmoband = sncosmo.Bandpass(wave=numpyband[:, 0],\n",
      "                                   trans=numpyband[:, 1],\n",
      "                                   wave_unit=Unit('nm'),\n",
      "                                   name='LSST_' + band)\n",
      "\n",
      "    sncosmo.registry.register(sncosmoband, force=True)"
     ],
     "language": "python",
     "metadata": {},
     "outputs": [],
     "prompt_number": 3
    },
    {
     "cell_type": "code",
     "collapsed": false,
     "input": [
      "model = sncosmo.Model(source='salt2-extended')"
     ],
     "language": "python",
     "metadata": {},
     "outputs": [],
     "prompt_number": 4
    },
    {
     "cell_type": "code",
     "collapsed": false,
     "input": [
      "class LC(object):\n",
      "    \"\"\"class to streamline light curve fits with SNCosmo \"\"\"\n",
      "    def __init__(self, model, data_file='sn.dat'):\n",
      "        # super(, self).__init__()  <-- don't need this yet\n",
      "\n",
      "        self.model = model\n",
      "        self.data = sncosmo.read_lc(data_file)\n",
      "\n",
      "        self._chi2 = None\n",
      "        self._mcmc = None\n",
      "        self._nest = None\n",
      "\n",
      "\n",
      "    @property\n",
      "    def chi2(self):\n",
      "        return self.chi2\n",
      "\n",
      "    @chi2.getter\n",
      "    def chi2(self):\n",
      "        if self._chi2 is None:\n",
      "            print \"running chi^2 fit\"\n",
      "            self._chi2 = sncosmo.fit_lc(self.data, self.model, vparam_names=['t0', 'x0', 'x1', 'c'],\n",
      "                                        bounds={'c':(-0.3, 0.3), 'x1':(-3.0, 3.0)}, minsnr=3.0)\n",
      "        return self._chi2\n",
      "\n",
      "    @chi2.setter\n",
      "    def chi2(self, val):\n",
      "        self._chi2 = val\n",
      "        return self._chi2\n",
      "\n",
      "    @property\n",
      "    def mcmc(self):\n",
      "        return self.mcmc\n",
      "\n",
      "    @mcmc.getter\n",
      "    def mcmc(self):\n",
      "        if self._mcmc is None:\n",
      "            print \"running MCMC fit\"\n",
      "            mcmc_res, mcmc_model = sncosmo.mcmc_lc(self.data, model, vparam_names=['t0', 'x0', 'x1', 'c'],\n",
      "                                        bounds={'c':(-0.3, 0.3), 'x1':(-3.0, 3.0)}, minsnr=3.0)\n",
      "        return self._mcmc\n",
      "\n",
      "    @mcmc.setter\n",
      "    def mcmc(self, val):\n",
      "        self._mcmc = val\n",
      "        return self._mcmc\n",
      "\n",
      "    @property\n",
      "    def nest(self):\n",
      "        return self.nest\n",
      "\n",
      "    @nest.getter\n",
      "    def nest(self):\n",
      "        if self._nest is None:\n",
      "            print \"running nest fit\"\n",
      "            self._nest = sncosmo.nest_lc(self.data, model, vparam_names=['t0', 'x0', 'x1', 'c'],\n",
      "                                    bounds={'c':(-0.3, 0.3), 'x1':(-3.0, 3.0)}, guess_amplitude_bound=True,\n",
      "                                     minsnr=3.0, verbose=True)\n",
      "        return self._nest\n",
      "    \n",
      "    @nest.setter\n",
      "    def nest(self, val):\n",
      "        self._nest = val\n",
      "        return self._nest\n",
      "\n",
      "#methods\n",
      "#--------------\n",
      "\n",
      "    def metadata(self):\n",
      "        print self.model\n",
      "\n",
      "    def statistics(self):\n",
      "        pass\n",
      "\n",
      "    def plotLC(self):\n",
      "        pass\n",
      "\n",
      "    def plotCorner(self):\n",
      "        mcmc = self._mcmc[0].vparam_names\n",
      "        nest = self._nest[0].vparam_names\n",
      "    \n",
      "        mcmc_ndim, mcmc_nsamples = len(mcmc), len(self._mcmc[0].samples)\n",
      "        mcmc_samples = self._mcmc[0].samples\n",
      "\n",
      "        nest_ndim, nest_nsamples = len(nest), len(self._nest[0].samples)\n",
      "        nest_samples = self._nest[0].samples\n",
      "        \n",
      "        figure_mcmc = triangle.corner(mcmc_samples, labels=[mcmc[0], mcmc[1], mcmc[2], mcmc[3]],\n",
      "                         truths=[model.get(mcmc[0]), model.get(mcmc[1]),\n",
      "                                 model.get(mcmc[2]), model.get(mcmc[3])],\n",
      "                         range=mcmc_ndim*[0.9999],\n",
      "                         show_titles=True, title_args={\"fontsize\": 12})\n",
      "\n",
      "        figure_mcmc.gca().annotate(\"mcmc sampling\", xy=(0.5, 1.0), xycoords=\"figure fraction\",\n",
      "                      xytext=(0, -5), textcoords=\"offset points\",\n",
      "                      ha=\"center\", va=\"top\")\n",
      "\n",
      "\n",
      "    def plotTrace(self):\n",
      "        trace_fig = plt.figure(figsize=(20,8))\n",
      "\n",
      "        mcmc1 = trace_fig.add_subplot(241)\n",
      "        mcmc2 = trace_fig.add_subplot(242)\n",
      "        mcmc3 = trace_fig.add_subplot(243)\n",
      "        mcmc4 = trace_fig.add_subplot(244)\n",
      "\n",
      "        nest1 = trace_fig.add_subplot(245)\n",
      "        nest2 = trace_fig.add_subplot(246)\n",
      "        nest3 = trace_fig.add_subplot(247)\n",
      "        nest4 = trace_fig.add_subplot(248)\n",
      "\n",
      "        mcmc1.plot(mcmc_samples[:,0])\n",
      "        mcmc2.plot(mcmc_samples[:,1])\n",
      "        mcmc3.plot(mcmc_samples[:,2])\n",
      "        mcmc4.plot(mcmc_samples[:,3])\n",
      "\n",
      "        mcmc1.set_title('mcmc: ' + mcmc[0])\n",
      "        mcmc2.set_title('mcmc: ' + mcmc[1])\n",
      "        mcmc3.set_title('mcmc: ' + mcmc[2])\n",
      "        mcmc4.set_title('mcmc: ' + mcmc[3])\n",
      "\n",
      "        nest1.plot(nest_samples[:,0])\n",
      "        nest2.plot(nest_samples[:,1])\n",
      "        nest3.plot(nest_samples[:,2])\n",
      "        nest4.plot(nest_samples[:,3])\n",
      "\n",
      "        nest1.set_title('nest: ' + nest[0])\n",
      "        nest2.set_title('nest: ' + nest[1])\n",
      "        nest3.set_title('nest: ' + nest[2])\n",
      "        nest4.set_title('nest: ' + nest[3])\n",
      "\n",
      "        trace_fig.tight_layout()\n",
      "\n",
      "        return trace_fig\n",
      "    \n",
      "    def compareFits(self):\n",
      "        pass\n"
     ],
     "language": "python",
     "metadata": {},
     "outputs": [],
     "prompt_number": 5
    },
    {
     "cell_type": "code",
     "collapsed": false,
     "input": [
      "test = LC(model)"
     ],
     "language": "python",
     "metadata": {},
     "outputs": [],
     "prompt_number": 6
    },
    {
     "cell_type": "code",
     "collapsed": false,
     "input": [
      "test.metadata()"
     ],
     "language": "python",
     "metadata": {},
     "outputs": [
      {
       "output_type": "stream",
       "stream": "stdout",
       "text": [
        "<Model at 0x107ea5d10>\n",
        "source:\n",
        "  class      : SALT2Source\n",
        "  name       : 'salt2-extended'\n",
        "  version    : 1.0\n",
        "  phases     : [-20, .., 50] days\n",
        "  wavelengths: [300, .., 18000] Angstroms\n",
        "parameters:\n",
        "  z  = 0.0\n",
        "  t0 = 0.0\n",
        "  x0 = 1.0\n",
        "  x1 = 0.0\n",
        "  c  = 0.0\n"
       ]
      }
     ],
     "prompt_number": 7
    },
    {
     "cell_type": "code",
     "collapsed": false,
     "input": [
      "test.chi2"
     ],
     "language": "python",
     "metadata": {},
     "outputs": [
      {
       "output_type": "stream",
       "stream": "stdout",
       "text": [
        "running chi^2 fit\n"
       ]
      },
      {
       "metadata": {},
       "output_type": "pyout",
       "prompt_number": 8,
       "text": [
        "(       errors: OrderedDict([('t0', 0.5055510190140922), ('x0', 5.0653093947250197e-08), ('x1', 0.0762515344434771), ('c', 0.005494228860208561)])\n",
        "   parameters: array([  0.00000000e+00,   5.08997535e+04,   9.93959226e-07,\n",
        "        -3.00000000e+00,   3.00000000e-01])\n",
        "      success: True\n",
        "         ndof: 79\n",
        "   covariance: array([[  2.55583830e-01,  -3.78773687e-09,  -2.73860948e-10,\n",
        "         -1.02151857e-11],\n",
        "       [ -3.78773687e-09,   2.56573593e-15,  -3.62275792e-16,\n",
        "          7.81645290e-17],\n",
        "       [ -2.73860948e-10,  -3.62275792e-16,   1.49595620e-10,\n",
        "         -5.74405112e-19],\n",
        "       [ -1.02151857e-11,   7.81645290e-17,  -5.74405112e-19,\n",
        "          1.01436405e-12]])\n",
        " vparam_names: ['t0', 'x0', 'x1', 'c']\n",
        "        chisq: 430.3002407501311\n",
        "  param_names: ['z', 't0', 'x0', 'x1', 'c']\n",
        "      message: 'Minimization exited successfully.'\n",
        "        ncall: 441,\n",
        " <sncosmo.models.Model at 0x103610e10>)"
       ]
      }
     ],
     "prompt_number": 8
    },
    {
     "cell_type": "code",
     "collapsed": false,
     "input": [
      "print test.chi2"
     ],
     "language": "python",
     "metadata": {},
     "outputs": [
      {
       "output_type": "stream",
       "stream": "stdout",
       "text": [
        "(       errors: OrderedDict([('t0', 0.5055510190140922), ('x0', 5.0653093947250197e-08), ('x1', 0.0762515344434771), ('c', 0.005494228860208561)])\n",
        "   parameters: array([  0.00000000e+00,   5.08997535e+04,   9.93959226e-07,\n",
        "        -3.00000000e+00,   3.00000000e-01])\n",
        "      success: True\n",
        "         ndof: 79\n",
        "   covariance: array([[  2.55583830e-01,  -3.78773687e-09,  -2.73860948e-10,\n",
        "         -1.02151857e-11],\n",
        "       [ -3.78773687e-09,   2.56573593e-15,  -3.62275792e-16,\n",
        "          7.81645290e-17],\n",
        "       [ -2.73860948e-10,  -3.62275792e-16,   1.49595620e-10,\n",
        "         -5.74405112e-19],\n",
        "       [ -1.02151857e-11,   7.81645290e-17,  -5.74405112e-19,\n",
        "          1.01436405e-12]])\n",
        " vparam_names: ['t0', 'x0', 'x1', 'c']\n",
        "        chisq: 430.3002407501311\n",
        "  param_names: ['z', 't0', 'x0', 'x1', 'c']\n",
        "      message: 'Minimization exited successfully.'\n",
        "        ncall: 441, <sncosmo.models.Model object at 0x103610e10>)\n"
       ]
      }
     ],
     "prompt_number": 15
    },
    {
     "cell_type": "code",
     "collapsed": false,
     "input": [
      "test.chi2"
     ],
     "language": "python",
     "metadata": {},
     "outputs": [
      {
       "metadata": {},
       "output_type": "pyout",
       "prompt_number": 20,
       "text": [
        "(       errors: OrderedDict([('t0', 0.5055510190140922), ('x0', 5.0653093947250197e-08), ('x1', 0.0762515344434771), ('c', 0.005494228860208561)])\n",
        "   parameters: array([  0.00000000e+00,   5.08997535e+04,   9.93959226e-07,\n",
        "        -3.00000000e+00,   3.00000000e-01])\n",
        "      success: True\n",
        "         ndof: 79\n",
        "   covariance: array([[  2.55583830e-01,  -3.78773687e-09,  -2.73860948e-10,\n",
        "         -1.02151857e-11],\n",
        "       [ -3.78773687e-09,   2.56573593e-15,  -3.62275792e-16,\n",
        "          7.81645290e-17],\n",
        "       [ -2.73860948e-10,  -3.62275792e-16,   1.49595620e-10,\n",
        "         -5.74405112e-19],\n",
        "       [ -1.02151857e-11,   7.81645290e-17,  -5.74405112e-19,\n",
        "          1.01436405e-12]])\n",
        " vparam_names: ['t0', 'x0', 'x1', 'c']\n",
        "        chisq: 430.3002407501311\n",
        "  param_names: ['z', 't0', 'x0', 'x1', 'c']\n",
        "      message: 'Minimization exited successfully.'\n",
        "        ncall: 441,\n",
        " <sncosmo.models.Model at 0x103610e10>)"
       ]
      }
     ],
     "prompt_number": 20
    },
    {
     "cell_type": "code",
     "collapsed": false,
     "input": [
      "test.mcmc"
     ],
     "language": "python",
     "metadata": {},
     "outputs": []
    },
    {
     "cell_type": "code",
     "collapsed": false,
     "input": [
      "test.mcmc"
     ],
     "language": "python",
     "metadata": {},
     "outputs": [
      {
       "output_type": "stream",
       "stream": "stdout",
       "text": [
        "running MCMC fit\n"
       ]
      }
     ],
     "prompt_number": 11
    },
    {
     "cell_type": "code",
     "collapsed": false,
     "input": [
      "test.nest"
     ],
     "language": "python",
     "metadata": {},
     "outputs": [
      {
       "metadata": {},
       "output_type": "pyout",
       "prompt_number": 22,
       "text": [
        "(        niter: 2532\n",
        "       errors: OrderedDict([('t0', 0.56662156079238046), ('x0', 5.5731382972436421e-08), ('x1', 0.14119569873981724), ('c', 0.011942577272027232)])\n",
        "   param_dict: OrderedDict([('z', 0.0), ('t0', 50899.880654270855), ('x0', 1.0039006064172102e-06), ('x1', -2.8541423434389142), ('c', 0.28778453125990172)])\n",
        "   parameters: array([  0.00000000e+00,   5.08998807e+04,   1.00390061e-06,\n",
        "        -2.85414234e+00,   2.87784531e-01])\n",
        "       bounds: {'c': (-0.3, 0.3), 'x1': (-3.0, 3.0), 'x0': (0.0, 6.372276360059329e-05), 't0': (50827.211000000003, 51050.038999999997)}\n",
        "            h: 15.438055885304266\n",
        "     logprior: array([ -4.61016602,  -4.62016602,  -4.63016602, ..., -30.60517019,\n",
        "       -30.60517019, -30.60517019])\n",
        "         logz: -233.74052211940156\n",
        "         ndof: 79\n",
        "        ncall: 11795\n",
        " vparam_names: ['t0', 'x0', 'x1', 'c']\n",
        "      weights: array([  0.00000000e+00,   0.00000000e+00,   0.00000000e+00, ...,\n",
        "         5.31369726e-06,   5.10554698e-06,   5.09242563e-06])\n",
        "      samples: array([[  5.08980577e+04,   5.60872229e-05,  -2.49507892e+00,\n",
        "          2.85907367e-01],\n",
        "       [  5.10000250e+04,   5.20780999e-05,   2.34118289e+00,\n",
        "          2.12842365e-01],\n",
        "       [  5.09085677e+04,   5.35294878e-05,   2.45365294e+00,\n",
        "          1.18066888e-01],\n",
        "       ..., \n",
        "       [  5.08997742e+04,   9.80161776e-07,  -2.99378878e+00,\n",
        "          2.99450501e-01],\n",
        "       [  5.08996900e+04,   9.92648650e-07,  -2.98256905e+00,\n",
        "          2.99477391e-01],\n",
        "       [  5.08997931e+04,   1.00717292e-06,  -2.99868078e+00,\n",
        "          2.98526252e-01]])\n",
        "         time: 1801.5912449359894\n",
        "      logzerr: 0.39291291510084353\n",
        "   covariance: array([[  3.21059993e-01,  -4.29688930e-09,   2.72745893e-03,\n",
        "          9.75691918e-05],\n",
        "       [ -4.29688930e-09,   3.10598705e-15,  -3.82780794e-10,\n",
        "         -1.94978926e-10],\n",
        "       [  2.72745893e-03,  -3.82780794e-10,   1.99362253e-02,\n",
        "          6.06294061e-05],\n",
        "       [  9.75691918e-05,  -1.94978926e-10,   6.06294061e-05,\n",
        "          1.42625152e-04]])\n",
        "         logl: array([ -5.61812548e+05,  -4.56328263e+05,  -4.43586954e+05, ...,\n",
        "        -2.15280575e+02,  -2.15320535e+02,  -2.15323108e+02]),\n",
        " <sncosmo.models.Model at 0x107fe9b10>)"
       ]
      }
     ],
     "prompt_number": 22
    },
    {
     "cell_type": "code",
     "collapsed": false,
     "input": [
      "print test.nest"
     ],
     "language": "python",
     "metadata": {},
     "outputs": [
      {
       "output_type": "stream",
       "stream": "stdout",
       "text": [
        "(        niter: 2532\n",
        "       errors: OrderedDict([('t0', 0.56662156079238046), ('x0', 5.5731382972436421e-08), ('x1', 0.14119569873981724), ('c', 0.011942577272027232)])\n",
        "   param_dict: OrderedDict([('z', 0.0), ('t0', 50899.880654270855), ('x0', 1.0039006064172102e-06), ('x1', -2.8541423434389142), ('c', 0.28778453125990172)])\n",
        "   parameters: array([  0.00000000e+00,   5.08998807e+04,   1.00390061e-06,\n",
        "        -2.85414234e+00,   2.87784531e-01])\n",
        "       bounds: {'c': (-0.3, 0.3), 'x1': (-3.0, 3.0), 'x0': (0.0, 6.372276360059329e-05), 't0': (50827.211000000003, 51050.038999999997)}\n",
        "            h: 15.438055885304266\n",
        "     logprior: array([ -4.61016602,  -4.62016602,  -4.63016602, ..., -30.60517019,\n",
        "       -30.60517019, -30.60517019])\n",
        "         logz: -233.74052211940156\n",
        "         ndof: 79\n",
        "        ncall: 11795\n",
        " vparam_names: ['t0', 'x0', 'x1', 'c']\n",
        "      weights: array([  0.00000000e+00,   0.00000000e+00,   0.00000000e+00, ...,\n",
        "         5.31369726e-06,   5.10554698e-06,   5.09242563e-06])\n",
        "      samples: array([[  5.08980577e+04,   5.60872229e-05,  -2.49507892e+00,\n",
        "          2.85907367e-01],\n",
        "       [  5.10000250e+04,   5.20780999e-05,   2.34118289e+00,\n",
        "          2.12842365e-01],\n",
        "       [  5.09085677e+04,   5.35294878e-05,   2.45365294e+00,\n",
        "          1.18066888e-01],\n",
        "       ..., \n",
        "       [  5.08997742e+04,   9.80161776e-07,  -2.99378878e+00,\n",
        "          2.99450501e-01],\n",
        "       [  5.08996900e+04,   9.92648650e-07,  -2.98256905e+00,\n",
        "          2.99477391e-01],\n",
        "       [  5.08997931e+04,   1.00717292e-06,  -2.99868078e+00,\n",
        "          2.98526252e-01]])\n",
        "         time: 1801.5912449359894\n",
        "      logzerr: 0.39291291510084353\n",
        "   covariance: array([[  3.21059993e-01,  -4.29688930e-09,   2.72745893e-03,\n",
        "          9.75691918e-05],\n",
        "       [ -4.29688930e-09,   3.10598705e-15,  -3.82780794e-10,\n",
        "         -1.94978926e-10],\n",
        "       [  2.72745893e-03,  -3.82780794e-10,   1.99362253e-02,\n",
        "          6.06294061e-05],\n",
        "       [  9.75691918e-05,  -1.94978926e-10,   6.06294061e-05,\n",
        "          1.42625152e-04]])\n",
        "         logl: array([ -5.61812548e+05,  -4.56328263e+05,  -4.43586954e+05, ...,\n",
        "        -2.15280575e+02,  -2.15320535e+02,  -2.15323108e+02]), <sncosmo.models.Model object at 0x107fe9b10>)\n"
       ]
      }
     ],
     "prompt_number": 23
    },
    {
     "cell_type": "code",
     "collapsed": false,
     "input": [
      "test.nest"
     ],
     "language": "python",
     "metadata": {},
     "outputs": [
      {
       "metadata": {},
       "output_type": "pyout",
       "prompt_number": 18,
       "text": [
        "(        niter: 2532\n",
        "       errors: OrderedDict([('t0', 0.56662156079238046), ('x0', 5.5731382972436421e-08), ('x1', 0.14119569873981724), ('c', 0.011942577272027232)])\n",
        "   param_dict: OrderedDict([('z', 0.0), ('t0', 50899.880654270855), ('x0', 1.0039006064172102e-06), ('x1', -2.8541423434389142), ('c', 0.28778453125990172)])\n",
        "   parameters: array([  0.00000000e+00,   5.08998807e+04,   1.00390061e-06,\n",
        "        -2.85414234e+00,   2.87784531e-01])\n",
        "       bounds: {'c': (-0.3, 0.3), 'x1': (-3.0, 3.0), 'x0': (0.0, 6.372276360059329e-05), 't0': (50827.211000000003, 51050.038999999997)}\n",
        "            h: 15.438055885304266\n",
        "     logprior: array([ -4.61016602,  -4.62016602,  -4.63016602, ..., -30.60517019,\n",
        "       -30.60517019, -30.60517019])\n",
        "         logz: -233.74052211940156\n",
        "         ndof: 79\n",
        "        ncall: 11795\n",
        " vparam_names: ['t0', 'x0', 'x1', 'c']\n",
        "      weights: array([  0.00000000e+00,   0.00000000e+00,   0.00000000e+00, ...,\n",
        "         5.31369726e-06,   5.10554698e-06,   5.09242563e-06])\n",
        "      samples: array([[  5.08980577e+04,   5.60872229e-05,  -2.49507892e+00,\n",
        "          2.85907367e-01],\n",
        "       [  5.10000250e+04,   5.20780999e-05,   2.34118289e+00,\n",
        "          2.12842365e-01],\n",
        "       [  5.09085677e+04,   5.35294878e-05,   2.45365294e+00,\n",
        "          1.18066888e-01],\n",
        "       ..., \n",
        "       [  5.08997742e+04,   9.80161776e-07,  -2.99378878e+00,\n",
        "          2.99450501e-01],\n",
        "       [  5.08996900e+04,   9.92648650e-07,  -2.98256905e+00,\n",
        "          2.99477391e-01],\n",
        "       [  5.08997931e+04,   1.00717292e-06,  -2.99868078e+00,\n",
        "          2.98526252e-01]])\n",
        "         time: 1801.5912449359894\n",
        "      logzerr: 0.39291291510084353\n",
        "   covariance: array([[  3.21059993e-01,  -4.29688930e-09,   2.72745893e-03,\n",
        "          9.75691918e-05],\n",
        "       [ -4.29688930e-09,   3.10598705e-15,  -3.82780794e-10,\n",
        "         -1.94978926e-10],\n",
        "       [  2.72745893e-03,  -3.82780794e-10,   1.99362253e-02,\n",
        "          6.06294061e-05],\n",
        "       [  9.75691918e-05,  -1.94978926e-10,   6.06294061e-05,\n",
        "          1.42625152e-04]])\n",
        "         logl: array([ -5.61812548e+05,  -4.56328263e+05,  -4.43586954e+05, ...,\n",
        "        -2.15280575e+02,  -2.15320535e+02,  -2.15323108e+02]),\n",
        " <sncosmo.models.Model at 0x107fe9b10>)"
       ]
      }
     ],
     "prompt_number": 18
    },
    {
     "cell_type": "code",
     "collapsed": false,
     "input": [],
     "language": "python",
     "metadata": {},
     "outputs": []
    }
   ],
   "metadata": {}
  }
 ]
}